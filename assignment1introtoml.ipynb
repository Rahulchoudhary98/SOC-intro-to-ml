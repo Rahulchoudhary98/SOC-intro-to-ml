{
 "cells": [
  {
   "cell_type": "markdown",
   "id": "fabd68ba",
   "metadata": {
    "id": "v161hQMMiZ33"
   },
   "source": [
    "# Function Practice Exercises\n",
    "\n",
    "Problems are arranged in increasing difficulty:\n",
    "* Warmup - these can be solved using basic comparisons and methods\n",
    "* Level 1 - these may involve if/then conditional statements and simple methods\n",
    "* Level 2 - these may require iterating over sequences, usually with some kind of loop\n",
    "* Challenging - these will take some creativity to solve"
   ]
  },
  {
   "cell_type": "markdown",
   "id": "3c913bd5",
   "metadata": {
    "id": "BNMo7Qp-iZ37"
   },
   "source": [
    "## WARMUP SECTION:"
   ]
  },
  {
   "cell_type": "markdown",
   "id": "20330730",
   "metadata": {
    "id": "A26qG0EfiZ38"
   },
   "source": [
    "#### LESSER OF TWO EVENS: Write a function that returns the lesser of two given numbers *if* both numbers are even, but returns the greater if one or both numbers are odd\n",
    "    lesser_of_two_evens(2,4) --> 2\n",
    "    lesser_of_two_evens(2,5) --> 5"
   ]
  },
  {
   "cell_type": "code",
   "execution_count": null,
   "id": "7aa9e1ed",
   "metadata": {
    "collapsed": true,
    "id": "usB2R2AciZ38",
    "jupyter": {
     "outputs_hidden": true
    }
   },
   "outputs": [],
   "source": [
    "def lesser_of_two_evens(a,b):\n",
    "    if a%2==0 and b%2==0:\n",
    "      if a<b:\n",
    "        return a\n",
    "      else:\n",
    "        return b\n",
    "    else:\n",
    "      if a>b:\n",
    "        return a\n",
    "      else:\n",
    "        return b"
   ]
  },
  {
   "cell_type": "code",
   "execution_count": null,
   "id": "e3a75003",
   "metadata": {
    "colab": {
     "base_uri": "https://localhost:8080/"
    },
    "collapsed": true,
    "id": "y4irfB5XiZ39",
    "jupyter": {
     "outputs_hidden": true
    },
    "outputId": "2c784fc0-d677-4f84-cea7-7ae609df30a3"
   },
   "outputs": [
    {
     "data": {
      "text/plain": [
       "2"
      ]
     },
     "execution_count": 2,
     "metadata": {},
     "output_type": "execute_result"
    }
   ],
   "source": [
    "# Check\n",
    "lesser_of_two_evens(2,4)"
   ]
  },
  {
   "cell_type": "code",
   "execution_count": null,
   "id": "6f136263",
   "metadata": {
    "colab": {
     "base_uri": "https://localhost:8080/"
    },
    "collapsed": true,
    "id": "LX7XNwu9iZ39",
    "jupyter": {
     "outputs_hidden": true
    },
    "outputId": "ed2f511e-c233-41fa-ccc3-6058097dee16"
   },
   "outputs": [
    {
     "data": {
      "text/plain": [
       "5"
      ]
     },
     "execution_count": 3,
     "metadata": {},
     "output_type": "execute_result"
    }
   ],
   "source": [
    "# Check\n",
    "lesser_of_two_evens(2,5)"
   ]
  },
  {
   "cell_type": "markdown",
   "id": "f0adc3cb",
   "metadata": {
    "id": "b9lNxkjkiZ3-"
   },
   "source": [
    "#### ANIMAL CRACKERS: Write a function takes a two-word string and returns True if both words begin with same letter\n",
    "    animal_crackers('Levelheaded Llama') --> True\n",
    "    animal_crackers('Crazy Kangaroo') --> False"
   ]
  },
  {
   "cell_type": "code",
   "execution_count": null,
   "id": "d955ad39",
   "metadata": {
    "collapsed": true,
    "id": "M1THs8HoiZ3-",
    "jupyter": {
     "outputs_hidden": true
    }
   },
   "outputs": [],
   "source": [
    "def animal_crackers(text):\n",
    "    words=text.split()\n",
    "    if words[0][0]==words[1][0]:\n",
    "      return True\n",
    "    else:\n",
    "      return False"
   ]
  },
  {
   "cell_type": "code",
   "execution_count": null,
   "id": "3c59b7d0",
   "metadata": {
    "colab": {
     "base_uri": "https://localhost:8080/"
    },
    "collapsed": true,
    "id": "hNsyNSkyiZ3-",
    "jupyter": {
     "outputs_hidden": true
    },
    "outputId": "b0d1303b-7ea0-4de0-d738-bde5bbac55cd"
   },
   "outputs": [
    {
     "data": {
      "text/plain": [
       "True"
      ]
     },
     "execution_count": 5,
     "metadata": {},
     "output_type": "execute_result"
    }
   ],
   "source": [
    "# Check\n",
    "animal_crackers('Levelheaded Llama')"
   ]
  },
  {
   "cell_type": "code",
   "execution_count": null,
   "id": "4fb70da9",
   "metadata": {
    "colab": {
     "base_uri": "https://localhost:8080/"
    },
    "collapsed": true,
    "id": "VMzu26SwiZ3-",
    "jupyter": {
     "outputs_hidden": true
    },
    "outputId": "02f3eb56-795c-4649-e104-e7744afd9b65"
   },
   "outputs": [
    {
     "data": {
      "text/plain": [
       "False"
      ]
     },
     "execution_count": 6,
     "metadata": {},
     "output_type": "execute_result"
    }
   ],
   "source": [
    "# Check\n",
    "animal_crackers('Crazy Kangaroo')"
   ]
  },
  {
   "cell_type": "markdown",
   "id": "89d54615",
   "metadata": {
    "id": "lVS-D-8-iZ3_"
   },
   "source": [
    "#### MAKES TWENTY: Given two integers, return True if the sum of the integers is 20 *or* if one of the integers is 20. If not, return False\n",
    "\n",
    "    makes_twenty(20,10) --> True\n",
    "    makes_twenty(12,8) --> True\n",
    "    makes_twenty(2,3) --> False"
   ]
  },
  {
   "cell_type": "code",
   "execution_count": null,
   "id": "ebe6e8fe",
   "metadata": {
    "collapsed": true,
    "id": "ejpx9FrliZ3_",
    "jupyter": {
     "outputs_hidden": true
    }
   },
   "outputs": [],
   "source": [
    "def makes_twenty(n1,n2):\n",
    "    if n1+n2==20 or n1==20 or n2==20:\n",
    "      return True\n",
    "    else:\n",
    "      return False"
   ]
  },
  {
   "cell_type": "code",
   "execution_count": null,
   "id": "e85c142a",
   "metadata": {
    "colab": {
     "base_uri": "https://localhost:8080/"
    },
    "collapsed": true,
    "id": "3O_SwOhpiZ3_",
    "jupyter": {
     "outputs_hidden": true
    },
    "outputId": "ec621e30-940e-4e8e-d253-8a9c59599bad"
   },
   "outputs": [
    {
     "data": {
      "text/plain": [
       "True"
      ]
     },
     "execution_count": 8,
     "metadata": {},
     "output_type": "execute_result"
    }
   ],
   "source": [
    "# Check\n",
    "makes_twenty(20,10)"
   ]
  },
  {
   "cell_type": "code",
   "execution_count": null,
   "id": "0e68940b",
   "metadata": {
    "colab": {
     "base_uri": "https://localhost:8080/"
    },
    "collapsed": true,
    "id": "6WwU92gkiZ3_",
    "jupyter": {
     "outputs_hidden": true
    },
    "outputId": "48b75b17-5594-4b86-8931-9958da57cba3"
   },
   "outputs": [
    {
     "data": {
      "text/plain": [
       "False"
      ]
     },
     "execution_count": 9,
     "metadata": {},
     "output_type": "execute_result"
    }
   ],
   "source": [
    "# Check\n",
    "makes_twenty(2,3)"
   ]
  },
  {
   "cell_type": "markdown",
   "id": "05c9490a",
   "metadata": {
    "id": "uV6_5efSiZ3_"
   },
   "source": [
    "# LEVEL 1 PROBLEMS"
   ]
  },
  {
   "cell_type": "markdown",
   "id": "18f8aec3",
   "metadata": {
    "id": "i1hh485CiZ4A"
   },
   "source": [
    "#### OLD MACDONALD: Write a function that capitalizes the first and fourth letters of a name\n",
    "     \n",
    "    old_macdonald('macdonald') --> MacDonald\n",
    "    \n",
    "Note: `'macdonald'.capitalize()` returns `'Macdonald'`"
   ]
  },
  {
   "cell_type": "code",
   "execution_count": null,
   "id": "5edb75d2",
   "metadata": {
    "collapsed": true,
    "id": "djkGJkYpiZ4A",
    "jupyter": {
     "outputs_hidden": true
    }
   },
   "outputs": [],
   "source": [
    "def old_macdonald(name):\n",
    "    first_capital=name[0].upper()\n",
    "    inbetween=name[1:3]\n",
    "    fourth_capital=name[3].upper()\n",
    "    rest=name[4:]\n",
    "    return first_capital+inbetween+fourth_capital+rest"
   ]
  },
  {
   "cell_type": "code",
   "execution_count": null,
   "id": "34c2019f",
   "metadata": {
    "colab": {
     "base_uri": "https://localhost:8080/",
     "height": 35
    },
    "collapsed": true,
    "id": "TzC3-H7LiZ4A",
    "jupyter": {
     "outputs_hidden": true
    },
    "outputId": "b2a6876c-6274-4a31-df9b-1a83de1ef57f"
   },
   "outputs": [
    {
     "data": {
      "application/vnd.google.colaboratory.intrinsic+json": {
       "type": "string"
      },
      "text/plain": [
       "'MacDonald'"
      ]
     },
     "execution_count": 11,
     "metadata": {},
     "output_type": "execute_result"
    }
   ],
   "source": [
    "# Check\n",
    "old_macdonald('macdonald')"
   ]
  },
  {
   "cell_type": "markdown",
   "id": "f9574900",
   "metadata": {
    "id": "-_U5hhyMiZ4A"
   },
   "source": [
    "#### MASTER YODA: Given a sentence, return a sentence with the words reversed\n",
    "\n",
    "    master_yoda('I am home') --> 'home am I'\n",
    "    master_yoda('We are ready') --> 'ready are We'\n",
    "    \n",
    "Note: The .join() method may be useful here. The .join() method allows you to join together strings in a list with some connector string. For example, some uses of the .join() method:\n",
    "\n",
    "    >>> \"--\".join(['a','b','c'])\n",
    "    >>> 'a--b--c'\n",
    "\n",
    "This means if you had a list of words you wanted to turn back into a sentence, you could just join them with a single space string:\n",
    "\n",
    "    >>> \" \".join(['Hello','world'])\n",
    "    >>> \"Hello world\""
   ]
  },
  {
   "cell_type": "code",
   "execution_count": null,
   "id": "83723836",
   "metadata": {
    "collapsed": true,
    "id": "Qr9BbbPRiZ4A",
    "jupyter": {
     "outputs_hidden": true
    }
   },
   "outputs": [],
   "source": [
    "def master_yoda(text):\n",
    "    words=text.split()\n",
    "    words.reverse()\n",
    "    return \" \".join(words)"
   ]
  },
  {
   "cell_type": "code",
   "execution_count": null,
   "id": "b8d65052",
   "metadata": {
    "colab": {
     "base_uri": "https://localhost:8080/",
     "height": 35
    },
    "collapsed": true,
    "id": "znMrbsLxiZ4B",
    "jupyter": {
     "outputs_hidden": true
    },
    "outputId": "4f88b4d6-0574-40e7-b624-cad35634317d"
   },
   "outputs": [
    {
     "data": {
      "application/vnd.google.colaboratory.intrinsic+json": {
       "type": "string"
      },
      "text/plain": [
       "'home am I'"
      ]
     },
     "execution_count": 13,
     "metadata": {},
     "output_type": "execute_result"
    }
   ],
   "source": [
    "# Check\n",
    "master_yoda('I am home')"
   ]
  },
  {
   "cell_type": "code",
   "execution_count": null,
   "id": "6b3a7e68",
   "metadata": {
    "colab": {
     "base_uri": "https://localhost:8080/",
     "height": 35
    },
    "collapsed": true,
    "id": "2ruplExUiZ4B",
    "jupyter": {
     "outputs_hidden": true
    },
    "outputId": "659263ce-93f5-4c6b-ff63-988d622937a5"
   },
   "outputs": [
    {
     "data": {
      "application/vnd.google.colaboratory.intrinsic+json": {
       "type": "string"
      },
      "text/plain": [
       "'ready are We'"
      ]
     },
     "execution_count": 14,
     "metadata": {},
     "output_type": "execute_result"
    }
   ],
   "source": [
    "# Check\n",
    "master_yoda('We are ready')"
   ]
  },
  {
   "cell_type": "markdown",
   "id": "b4624e37",
   "metadata": {
    "id": "I2LBmV4MiZ4B"
   },
   "source": [
    "#### ALMOST THERE: Given an integer n, return True if n is within 10 of either 100 or 200\n",
    "\n",
    "    almost_there(90) --> True\n",
    "    almost_there(104) --> True\n",
    "    almost_there(150) --> False\n",
    "    almost_there(209) --> True\n",
    "    \n",
    "NOTE: `abs(num)` returns the absolute value of a number"
   ]
  },
  {
   "cell_type": "code",
   "execution_count": null,
   "id": "169ffd5e",
   "metadata": {
    "collapsed": true,
    "id": "xX3jhggWiZ4B",
    "jupyter": {
     "outputs_hidden": true
    }
   },
   "outputs": [],
   "source": [
    "def almost_there(n):\n",
    "    if abs(100-n)<=10 or abs(200-n)<=10:\n",
    "      return True\n",
    "    else:\n",
    "      return False"
   ]
  },
  {
   "cell_type": "code",
   "execution_count": null,
   "id": "89a8ba46",
   "metadata": {
    "colab": {
     "base_uri": "https://localhost:8080/"
    },
    "collapsed": true,
    "id": "shnVZqR7iZ4B",
    "jupyter": {
     "outputs_hidden": true
    },
    "outputId": "f2b6b46a-bc4e-4141-d5f1-0bbfc9a1187f"
   },
   "outputs": [
    {
     "data": {
      "text/plain": [
       "True"
      ]
     },
     "execution_count": 16,
     "metadata": {},
     "output_type": "execute_result"
    }
   ],
   "source": [
    "# Check\n",
    "almost_there(104)"
   ]
  },
  {
   "cell_type": "code",
   "execution_count": null,
   "id": "dd7060dc",
   "metadata": {
    "colab": {
     "base_uri": "https://localhost:8080/"
    },
    "collapsed": true,
    "id": "HJOwb6m-iZ4B",
    "jupyter": {
     "outputs_hidden": true
    },
    "outputId": "431f866f-cfdc-41a0-db16-b699cea56697"
   },
   "outputs": [
    {
     "data": {
      "text/plain": [
       "False"
      ]
     },
     "execution_count": 17,
     "metadata": {},
     "output_type": "execute_result"
    }
   ],
   "source": [
    "# Check\n",
    "almost_there(150)"
   ]
  },
  {
   "cell_type": "code",
   "execution_count": null,
   "id": "545522c9",
   "metadata": {
    "colab": {
     "base_uri": "https://localhost:8080/"
    },
    "collapsed": true,
    "id": "lmSrHV6IiZ4B",
    "jupyter": {
     "outputs_hidden": true
    },
    "outputId": "a4288a14-6062-407f-fdc1-d552b64369c0"
   },
   "outputs": [
    {
     "data": {
      "text/plain": [
       "True"
      ]
     },
     "execution_count": 18,
     "metadata": {},
     "output_type": "execute_result"
    }
   ],
   "source": [
    "# Check\n",
    "almost_there(209)"
   ]
  },
  {
   "cell_type": "markdown",
   "id": "0507ef40",
   "metadata": {
    "id": "3rt4ja-HiZ4B"
   },
   "source": [
    "# LEVEL 2 PROBLEMS"
   ]
  },
  {
   "cell_type": "markdown",
   "id": "66c3c041",
   "metadata": {
    "id": "h-9PXSRliZ4B"
   },
   "source": [
    "#### FIND 33:\n",
    "\n",
    "Given a list of ints, return True if the array contains a 3 next to a 3 somewhere.\n",
    "\n",
    "    has_33([1, 3, 3]) → True\n",
    "    has_33([1, 3, 1, 3]) → False\n",
    "    has_33([3, 1, 3]) → False"
   ]
  },
  {
   "cell_type": "code",
   "execution_count": null,
   "id": "2467b4a5",
   "metadata": {
    "collapsed": true,
    "id": "g_lW-TzxiZ4C",
    "jupyter": {
     "outputs_hidden": true
    }
   },
   "outputs": [],
   "source": [
    "def has_33(nums):\n",
    "    for i in range(len(nums)):\n",
    "      if nums[i]==3 and i<len(nums)-1:\n",
    "        if nums[i+1]==3:\n",
    "          return True\n",
    "    return False"
   ]
  },
  {
   "cell_type": "code",
   "execution_count": null,
   "id": "4603731e",
   "metadata": {
    "colab": {
     "base_uri": "https://localhost:8080/"
    },
    "collapsed": true,
    "id": "qV5fCx2viZ4C",
    "jupyter": {
     "outputs_hidden": true
    },
    "outputId": "469a259c-a5bc-468e-f7a7-1e3c4836d640"
   },
   "outputs": [
    {
     "data": {
      "text/plain": [
       "True"
      ]
     },
     "execution_count": 20,
     "metadata": {},
     "output_type": "execute_result"
    }
   ],
   "source": [
    "# Check\n",
    "has_33([1, 3, 3])"
   ]
  },
  {
   "cell_type": "code",
   "execution_count": null,
   "id": "99da1ec9",
   "metadata": {
    "colab": {
     "base_uri": "https://localhost:8080/"
    },
    "collapsed": true,
    "id": "X_tTD1T4iZ4C",
    "jupyter": {
     "outputs_hidden": true
    },
    "outputId": "e91be03c-44cb-47bc-a354-0e99b43b3d4d"
   },
   "outputs": [
    {
     "data": {
      "text/plain": [
       "False"
      ]
     },
     "execution_count": 21,
     "metadata": {},
     "output_type": "execute_result"
    }
   ],
   "source": [
    "# Check\n",
    "has_33([1, 3, 1, 3])"
   ]
  },
  {
   "cell_type": "code",
   "execution_count": null,
   "id": "ef52906e",
   "metadata": {
    "colab": {
     "base_uri": "https://localhost:8080/"
    },
    "collapsed": true,
    "id": "9IuORaK7iZ4C",
    "jupyter": {
     "outputs_hidden": true
    },
    "outputId": "0500f203-22e7-482e-acf2-e44a9f7a8bf0"
   },
   "outputs": [
    {
     "data": {
      "text/plain": [
       "False"
      ]
     },
     "execution_count": 22,
     "metadata": {},
     "output_type": "execute_result"
    }
   ],
   "source": [
    "# Check\n",
    "has_33([3, 1, 3])"
   ]
  },
  {
   "cell_type": "markdown",
   "id": "2743d0f4",
   "metadata": {
    "id": "yOt9gzJEiZ4D"
   },
   "source": [
    "#### PAPER DOLL: Given a string, return a string where for every character in the original there are three characters\n",
    "    paper_doll('Hello') --> 'HHHeeellllllooo'\n",
    "    paper_doll('Mississippi') --> 'MMMiiissssssiiippppppiii'"
   ]
  },
  {
   "cell_type": "code",
   "execution_count": null,
   "id": "adf6c444",
   "metadata": {
    "collapsed": true,
    "id": "KE3NMOIgiZ4D",
    "jupyter": {
     "outputs_hidden": true
    }
   },
   "outputs": [],
   "source": [
    "def paper_doll(text):\n",
    "    pass"
   ]
  },
  {
   "cell_type": "code",
   "execution_count": null,
   "id": "c90c95c1",
   "metadata": {
    "collapsed": true,
    "id": "rk5i9_naiZ4D",
    "jupyter": {
     "outputs_hidden": true
    }
   },
   "outputs": [],
   "source": [
    "# Check\n",
    "paper_doll('Hello')"
   ]
  },
  {
   "cell_type": "code",
   "execution_count": null,
   "id": "3993a630",
   "metadata": {
    "collapsed": true,
    "id": "oPzLdrMwiZ4D",
    "jupyter": {
     "outputs_hidden": true
    }
   },
   "outputs": [],
   "source": [
    "# Check\n",
    "paper_doll('Mississippi')"
   ]
  },
  {
   "cell_type": "markdown",
   "id": "3ac469ad",
   "metadata": {
    "id": "Qzh2kPhPiZ4D"
   },
   "source": [
    "#### BLACKJACK: Given three integers between 1 and 11, if their sum is less than or equal to 21, return their sum. If their sum exceeds 21 *and* there's an eleven, reduce the total sum by 10. Finally, if the sum (even after adjustment) exceeds 21, return 'BUST'\n",
    "    blackjack(5,6,7) --> 18\n",
    "    blackjack(9,9,9) --> 'BUST'\n",
    "    blackjack(9,9,11) --> 19"
   ]
  },
  {
   "cell_type": "code",
   "execution_count": null,
   "id": "3d1361d1",
   "metadata": {
    "collapsed": true,
    "id": "JrCpzD4hiZ4D",
    "jupyter": {
     "outputs_hidden": true
    }
   },
   "outputs": [],
   "source": [
    "def blackjack(a,b,c):\n",
    "    if a+b+c<=21:\n",
    "      return a+b+c\n",
    "    elif a+b+c>21 and (a==11 or b==11 or c==11):\n",
    "      totalsum=a+b+c-10\n",
    "      if totalsum>21:\n",
    "        return \"BUST\"\n",
    "      else:\n",
    "        return totalsum\n",
    "    else:\n",
    "      return \"BUST\""
   ]
  },
  {
   "cell_type": "code",
   "execution_count": null,
   "id": "4605cf97",
   "metadata": {
    "colab": {
     "base_uri": "https://localhost:8080/"
    },
    "collapsed": true,
    "id": "xOEyHC74iZ4f",
    "jupyter": {
     "outputs_hidden": true
    },
    "outputId": "38ee77ac-c149-40de-b6d5-74903ee6bbdd"
   },
   "outputs": [
    {
     "data": {
      "text/plain": [
       "18"
      ]
     },
     "execution_count": 27,
     "metadata": {},
     "output_type": "execute_result"
    }
   ],
   "source": [
    "# Check\n",
    "blackjack(5,6,7)"
   ]
  },
  {
   "cell_type": "code",
   "execution_count": null,
   "id": "b06e8678",
   "metadata": {
    "colab": {
     "base_uri": "https://localhost:8080/",
     "height": 35
    },
    "collapsed": true,
    "id": "NhIxniABiZ4f",
    "jupyter": {
     "outputs_hidden": true
    },
    "outputId": "1346c91a-69d5-4821-fe4d-431a59f83c08"
   },
   "outputs": [
    {
     "data": {
      "application/vnd.google.colaboratory.intrinsic+json": {
       "type": "string"
      },
      "text/plain": [
       "'BUST'"
      ]
     },
     "execution_count": 28,
     "metadata": {},
     "output_type": "execute_result"
    }
   ],
   "source": [
    "# Check\n",
    "blackjack(9,9,9)"
   ]
  },
  {
   "cell_type": "code",
   "execution_count": null,
   "id": "924fef61",
   "metadata": {
    "colab": {
     "base_uri": "https://localhost:8080/"
    },
    "collapsed": true,
    "id": "WSjLiJ0GiZ4f",
    "jupyter": {
     "outputs_hidden": true
    },
    "outputId": "1e62d8a3-0930-4983-beec-e933c52d41c9"
   },
   "outputs": [
    {
     "data": {
      "text/plain": [
       "19"
      ]
     },
     "execution_count": 29,
     "metadata": {},
     "output_type": "execute_result"
    }
   ],
   "source": [
    "# Check\n",
    "blackjack(9,9,11)"
   ]
  },
  {
   "cell_type": "markdown",
   "id": "123af80b",
   "metadata": {
    "id": "4DbaDk5oiZ4g"
   },
   "source": [
    "#### SUMMER OF '69: Return the sum of the numbers in the array, except ignore sections of numbers starting with a 6 and extending to the next 9 (every 6 will be followed by at least one 9). Return 0 for no numbers.\n",
    "\n",
    "    summer_69([1, 3, 5]) --> 9\n",
    "    summer_69([4, 5, 6, 7, 8, 9]) --> 9\n",
    "    summer_69([2, 1, 6, 9, 11]) --> 14"
   ]
  },
  {
   "cell_type": "code",
   "execution_count": null,
   "id": "a5ac5ac1",
   "metadata": {
    "collapsed": true,
    "id": "4lTurZKAiZ4g",
    "jupyter": {
     "outputs_hidden": true
    }
   },
   "outputs": [],
   "source": [
    "def summer_69(arr):\n",
    "    sum=0\n",
    "    add=True\n",
    "    for num in arr:\n",
    "      if num==6:\n",
    "        add=False\n",
    "      if add:\n",
    "        sum+=num\n",
    "      if num==9:\n",
    "        add=True\n",
    "    return sum"
   ]
  },
  {
   "cell_type": "code",
   "execution_count": null,
   "id": "397bde60",
   "metadata": {
    "colab": {
     "base_uri": "https://localhost:8080/"
    },
    "collapsed": true,
    "id": "5s9VUfpXiZ4g",
    "jupyter": {
     "outputs_hidden": true
    },
    "outputId": "d88072d7-cc4d-4de0-e63d-eca5480c67da"
   },
   "outputs": [
    {
     "data": {
      "text/plain": [
       "9"
      ]
     },
     "execution_count": 31,
     "metadata": {},
     "output_type": "execute_result"
    }
   ],
   "source": [
    "# Check\n",
    "summer_69([1, 3, 5])"
   ]
  },
  {
   "cell_type": "code",
   "execution_count": null,
   "id": "8581d1ee",
   "metadata": {
    "colab": {
     "base_uri": "https://localhost:8080/"
    },
    "collapsed": true,
    "id": "-y9JnFT_iZ4g",
    "jupyter": {
     "outputs_hidden": true
    },
    "outputId": "701acc8e-b4a3-484b-c65d-48f9f912bbae"
   },
   "outputs": [
    {
     "data": {
      "text/plain": [
       "9"
      ]
     },
     "execution_count": 32,
     "metadata": {},
     "output_type": "execute_result"
    }
   ],
   "source": [
    "# Check\n",
    "summer_69([4, 5, 6, 7, 8, 9])"
   ]
  },
  {
   "cell_type": "code",
   "execution_count": null,
   "id": "e3c6c192",
   "metadata": {
    "colab": {
     "base_uri": "https://localhost:8080/"
    },
    "collapsed": true,
    "id": "aEEkGFqtiZ4g",
    "jupyter": {
     "outputs_hidden": true
    },
    "outputId": "2caec457-a40a-4187-8639-353a26261bae"
   },
   "outputs": [
    {
     "data": {
      "text/plain": [
       "14"
      ]
     },
     "execution_count": 33,
     "metadata": {},
     "output_type": "execute_result"
    }
   ],
   "source": [
    "# Check\n",
    "summer_69([2, 1, 6, 9, 11])"
   ]
  },
  {
   "cell_type": "markdown",
   "id": "66c14e76",
   "metadata": {
    "id": "aIQeFPxIiZ4g"
   },
   "source": [
    "# CHALLENGING PROBLEMS"
   ]
  },
  {
   "cell_type": "markdown",
   "id": "618d35aa",
   "metadata": {
    "id": "OaDRZfMwiZ4h"
   },
   "source": [
    "#### SPY GAME: Write a function that takes in a list of integers and returns True if it contains 007 in order\n",
    "\n",
    "     spy_game([1,2,4,0,0,7,5]) --> True\n",
    "     spy_game([1,0,2,4,0,5,7]) --> True\n",
    "     spy_game([1,7,2,0,4,5,0]) --> False\n"
   ]
  },
  {
   "cell_type": "code",
   "execution_count": null,
   "id": "9b3ccd9c",
   "metadata": {
    "collapsed": true,
    "id": "bTLXSkCkiZ4h",
    "jupyter": {
     "outputs_hidden": true
    }
   },
   "outputs": [],
   "source": [
    "def spy_game(nums):\n",
    "    code=[0,0,7,\"x\"]\n",
    "    for num in nums:\n",
    "      if num==code[0]:\n",
    "        code.pop(0)\n",
    "    return len(code)==1\n"
   ]
  },
  {
   "cell_type": "code",
   "execution_count": null,
   "id": "f4e0277a",
   "metadata": {
    "colab": {
     "base_uri": "https://localhost:8080/"
    },
    "collapsed": true,
    "id": "0GLgy1JAiZ4i",
    "jupyter": {
     "outputs_hidden": true
    },
    "outputId": "942fc5d8-4ecd-4785-a8f1-0f11d6129311"
   },
   "outputs": [
    {
     "data": {
      "text/plain": [
       "True"
      ]
     },
     "execution_count": 67,
     "metadata": {},
     "output_type": "execute_result"
    }
   ],
   "source": [
    "# Check\n",
    "spy_game([1,2,4,0,0,7,5])"
   ]
  },
  {
   "cell_type": "code",
   "execution_count": null,
   "id": "3559ecad",
   "metadata": {
    "colab": {
     "base_uri": "https://localhost:8080/"
    },
    "collapsed": true,
    "id": "-IfnOI6kiZ4i",
    "jupyter": {
     "outputs_hidden": true
    },
    "outputId": "492571af-5149-4ab7-ef74-c6e4559d1767"
   },
   "outputs": [
    {
     "data": {
      "text/plain": [
       "True"
      ]
     },
     "execution_count": 68,
     "metadata": {},
     "output_type": "execute_result"
    }
   ],
   "source": [
    "# Check\n",
    "spy_game([1,0,2,4,0,5,7])"
   ]
  },
  {
   "cell_type": "code",
   "execution_count": null,
   "id": "f219e201",
   "metadata": {
    "colab": {
     "base_uri": "https://localhost:8080/"
    },
    "collapsed": true,
    "id": "Ol2h7bBmiZ4i",
    "jupyter": {
     "outputs_hidden": true
    },
    "outputId": "bda89118-6bb1-448c-b8ac-0d41f478afbb"
   },
   "outputs": [
    {
     "data": {
      "text/plain": [
       "False"
      ]
     },
     "execution_count": 69,
     "metadata": {},
     "output_type": "execute_result"
    }
   ],
   "source": [
    "\n",
    "# Check\n",
    "spy_game([1,7,2,0,4,5,0])"
   ]
  },
  {
   "cell_type": "markdown",
   "id": "e5b5b769",
   "metadata": {
    "id": "FNl3QL8KiZ4i"
   },
   "source": [
    "#### COUNT PRIMES: Write a function that returns the *number* of prime numbers that exist up to and including a given number\n",
    "    count_primes(100) --> 25\n",
    "\n",
    "By convention, 0 and 1 are not prime."
   ]
  },
  {
   "cell_type": "code",
   "execution_count": null,
   "id": "08b97203",
   "metadata": {
    "collapsed": true,
    "id": "DwPKgOxuiZ4i",
    "jupyter": {
     "outputs_hidden": true
    }
   },
   "outputs": [],
   "source": [
    "def count_primes(num):\n",
    "    pass\n"
   ]
  },
  {
   "cell_type": "code",
   "execution_count": null,
   "id": "2d00f554",
   "metadata": {
    "collapsed": true,
    "id": "QalypgTSiZ4i",
    "jupyter": {
     "outputs_hidden": true
    }
   },
   "outputs": [],
   "source": [
    "# Check\n",
    "count_primes(100)"
   ]
  },
  {
   "cell_type": "markdown",
   "id": "10113c55",
   "metadata": {
    "id": "NfHJ2IODiZ4j"
   },
   "source": [
    "### Just for fun:\n",
    "#### PRINT BIG: Write a function that takes in a single letter, and returns a 5x5 representation of that letter\n",
    "    print_big('a')\n",
    "    \n",
    "    out:   *  \n",
    "          * *\n",
    "         *****\n",
    "         *   *\n",
    "         *   *\n",
    "HINT: Consider making a dictionary of possible patterns, and mapping the alphabet to specific 5-line combinations of patterns. <br>For purposes of this exercise, it's ok if your dictionary stops at \"E\"."
   ]
  },
  {
   "cell_type": "code",
   "execution_count": null,
   "id": "675fb58e",
   "metadata": {
    "collapsed": true,
    "id": "8E3tdmn2iZ4k",
    "jupyter": {
     "outputs_hidden": true
    }
   },
   "outputs": [],
   "source": [
    "def print_big(letter):\n",
    "    dict={'a':'  *  \\n * * \\n*****\\n*   *\\n*   *','b':'**** \\n*   *\\n**** \\n*   *\\n**** ','c':'*****\\n*    \\n*    \\n*    \\n*****'}\n",
    "    if letter=='a':\n",
    "      return dict['a']\n",
    "    elif letter=='b':\n",
    "      return dict['b']\n",
    "    else:\n",
    "      return dict['c']\n",
    "\n"
   ]
  },
  {
   "cell_type": "code",
   "execution_count": null,
   "id": "3010841a",
   "metadata": {
    "colab": {
     "base_uri": "https://localhost:8080/",
     "height": 35
    },
    "collapsed": true,
    "id": "smzOoYtMiZ4l",
    "jupyter": {
     "outputs_hidden": true
    },
    "outputId": "99d21569-2e33-4650-f749-300adb62b0a7"
   },
   "outputs": [
    {
     "data": {
      "application/vnd.google.colaboratory.intrinsic+json": {
       "type": "string"
      },
      "text/plain": [
       "'  *  \\n * * \\n*****\\n*   *\\n*   *'"
      ]
     },
     "execution_count": 75,
     "metadata": {},
     "output_type": "execute_result"
    }
   ],
   "source": [
    "print_big('a')"
   ]
  },
  {
   "cell_type": "markdown",
   "id": "b245088d",
   "metadata": {
    "id": "Tvltc1ZFiZ4m"
   },
   "source": [
    "## Great Job!"
   ]
  },
  {
   "cell_type": "markdown",
   "id": "b6f2361d",
   "metadata": {
    "collapsed": true,
    "id": "iWv-7Tz03D3m",
    "jupyter": {
     "outputs_hidden": true
    }
   },
   "source": [
    "# Statements Assessment Test\n",
    "Let's test your knowledge!"
   ]
  },
  {
   "cell_type": "markdown",
   "id": "44d132c9",
   "metadata": {
    "id": "dEOSr8h33D3o"
   },
   "source": [
    "_____\n",
    "**Use <code>for</code>, .split(), and <code>if</code> to create a Statement that will print out words that start with 's':**"
   ]
  },
  {
   "cell_type": "code",
   "execution_count": null,
   "id": "bb04a3b3",
   "metadata": {
    "collapsed": true,
    "id": "yhPBTwAT3D3p",
    "jupyter": {
     "outputs_hidden": true
    }
   },
   "outputs": [],
   "source": [
    "st = 'Print only the words that start with s in this sentence'"
   ]
  },
  {
   "cell_type": "code",
   "execution_count": null,
   "id": "30bc3091",
   "metadata": {
    "colab": {
     "base_uri": "https://localhost:8080/"
    },
    "collapsed": true,
    "id": "kgz2M_9S3D3q",
    "jupyter": {
     "outputs_hidden": true
    },
    "outputId": "67454182-5314-449f-efd4-be5e484923af"
   },
   "outputs": [
    {
     "name": "stdout",
     "output_type": "stream",
     "text": [
      "start\n",
      "s\n",
      "sentence\n"
     ]
    }
   ],
   "source": [
    "wors=st.split()\n",
    "for word in wors:\n",
    "    if word[0]=='s':\n",
    "        print(word)"
   ]
  },
  {
   "cell_type": "markdown",
   "id": "b29bf67c",
   "metadata": {
    "id": "HGv0qXrh3D3q"
   },
   "source": [
    "______\n",
    "**Use range() to print all the even numbers from 0 to 10.**"
   ]
  },
  {
   "cell_type": "code",
   "execution_count": null,
   "id": "1324c426",
   "metadata": {
    "colab": {
     "base_uri": "https://localhost:8080/"
    },
    "collapsed": true,
    "id": "Qt52swiL3D3r",
    "jupyter": {
     "outputs_hidden": true
    },
    "outputId": "e03e94b7-72de-4d0a-adb6-4838e0c7aa8e"
   },
   "outputs": [
    {
     "name": "stdout",
     "output_type": "stream",
     "text": [
      "[0, 2, 4, 6, 8, 10]\n"
     ]
    }
   ],
   "source": [
    "even_num=list(range(0,11,2))\n",
    "print(even_num)"
   ]
  },
  {
   "cell_type": "markdown",
   "id": "6f868a44",
   "metadata": {
    "id": "ZCMo_KpA3D3r"
   },
   "source": [
    "___\n",
    "**Use a List Comprehension to create a list of all numbers between 1 and 50 that are divisible by 3.**"
   ]
  },
  {
   "cell_type": "code",
   "execution_count": null,
   "id": "88f5c1b9",
   "metadata": {
    "colab": {
     "base_uri": "https://localhost:8080/"
    },
    "collapsed": true,
    "id": "XFJTrnqO3D3s",
    "jupyter": {
     "outputs_hidden": true
    },
    "outputId": "e363e169-34ef-4046-b686-4f943ff8ad53"
   },
   "outputs": [
    {
     "name": "stdout",
     "output_type": "stream",
     "text": [
      "[3, 6, 9, 12, 15, 18, 21, 24, 27, 30, 33, 36, 39, 42, 45, 48]\n"
     ]
    }
   ],
   "source": [
    "num=[x for x in range(1,51) if x%3==0]\n",
    "print(num)"
   ]
  },
  {
   "cell_type": "markdown",
   "id": "3fc552fb",
   "metadata": {
    "id": "B98-5QBZ3D3s"
   },
   "source": [
    "_____\n",
    "**Go through the string below and if the length of a word is even print \"even!\"**"
   ]
  },
  {
   "cell_type": "code",
   "execution_count": null,
   "id": "ff5cd9ff",
   "metadata": {
    "collapsed": true,
    "id": "sTstdJJw3D3s",
    "jupyter": {
     "outputs_hidden": true
    }
   },
   "outputs": [],
   "source": [
    "st = 'Print every word in this sentence that has an even number of letters'"
   ]
  },
  {
   "cell_type": "code",
   "execution_count": null,
   "id": "548e63e4",
   "metadata": {
    "colab": {
     "base_uri": "https://localhost:8080/"
    },
    "collapsed": true,
    "id": "k6BRxMPr3D3s",
    "jupyter": {
     "outputs_hidden": true
    },
    "outputId": "fb075179-6b44-4250-ac71-6e6bdaf8bf0b"
   },
   "outputs": [
    {
     "name": "stdout",
     "output_type": "stream",
     "text": [
      "word\n",
      "in\n",
      "this\n",
      "sentence\n",
      "that\n",
      "an\n",
      "even\n",
      "number\n",
      "of\n"
     ]
    }
   ],
   "source": [
    "words=st.split()\n",
    "for word in words:\n",
    "    if len(word)%2==0:\n",
    "        print(word)"
   ]
  },
  {
   "cell_type": "markdown",
   "id": "72700161",
   "metadata": {
    "id": "0GKuPu-13D3t"
   },
   "source": [
    "____\n",
    "**Write a program that prints the integers from 1 to 100. But for multiples of three print \"Fizz\" instead of the number, and for the multiples of five print \"Buzz\". For numbers which are multiples of both three and five print \"FizzBuzz\".**"
   ]
  },
  {
   "cell_type": "code",
   "execution_count": null,
   "id": "77e9bd25",
   "metadata": {
    "colab": {
     "base_uri": "https://localhost:8080/"
    },
    "collapsed": true,
    "id": "YB4gDIrp3D3t",
    "jupyter": {
     "outputs_hidden": true
    },
    "outputId": "4294e471-408d-4d43-d96d-2ac1ab72e81c"
   },
   "outputs": [
    {
     "name": "stdout",
     "output_type": "stream",
     "text": [
      "1\n",
      "2\n",
      "Fizz\n",
      "4\n",
      "Buzz\n",
      "Fizz\n",
      "7\n",
      "8\n",
      "Fizz\n",
      "Buzz\n",
      "11\n",
      "Fizz\n",
      "13\n",
      "14\n",
      "FizzBuzz\n",
      "16\n",
      "17\n",
      "Fizz\n",
      "19\n",
      "Buzz\n",
      "Fizz\n",
      "22\n",
      "23\n",
      "Fizz\n",
      "Buzz\n",
      "26\n",
      "Fizz\n",
      "28\n",
      "29\n",
      "FizzBuzz\n",
      "31\n",
      "32\n",
      "Fizz\n",
      "34\n",
      "Buzz\n",
      "Fizz\n",
      "37\n",
      "38\n",
      "Fizz\n",
      "Buzz\n",
      "41\n",
      "Fizz\n",
      "43\n",
      "44\n",
      "FizzBuzz\n",
      "46\n",
      "47\n",
      "Fizz\n",
      "49\n",
      "Buzz\n",
      "Fizz\n",
      "52\n",
      "53\n",
      "Fizz\n",
      "Buzz\n",
      "56\n",
      "Fizz\n",
      "58\n",
      "59\n",
      "FizzBuzz\n",
      "61\n",
      "62\n",
      "Fizz\n",
      "64\n",
      "Buzz\n",
      "Fizz\n",
      "67\n",
      "68\n",
      "Fizz\n",
      "Buzz\n",
      "71\n",
      "Fizz\n",
      "73\n",
      "74\n",
      "FizzBuzz\n",
      "76\n",
      "77\n",
      "Fizz\n",
      "79\n",
      "Buzz\n",
      "Fizz\n",
      "82\n",
      "83\n",
      "Fizz\n",
      "Buzz\n",
      "86\n",
      "Fizz\n",
      "88\n",
      "89\n",
      "FizzBuzz\n",
      "91\n",
      "92\n",
      "Fizz\n",
      "94\n",
      "Buzz\n",
      "Fizz\n",
      "97\n",
      "98\n",
      "Fizz\n",
      "Buzz\n"
     ]
    }
   ],
   "source": [
    "num=list(range(1,101))\n",
    "for x in num:\n",
    "    if x%3==0 and x%5==0:\n",
    "        x='FizzBuzz'\n",
    "    elif x%3==0:\n",
    "        x='Fizz'\n",
    "    elif x%5==0:\n",
    "        x='Buzz'\n",
    "    print(x)"
   ]
  },
  {
   "cell_type": "markdown",
   "id": "a4eb422a",
   "metadata": {
    "id": "jHk4ii5Y3D3t"
   },
   "source": [
    "____\n",
    "**Use List Comprehension to create a list of the first letters of every word in the string below:**"
   ]
  },
  {
   "cell_type": "code",
   "execution_count": null,
   "id": "763059f8",
   "metadata": {
    "collapsed": true,
    "id": "xOdPTquP3D3t",
    "jupyter": {
     "outputs_hidden": true
    }
   },
   "outputs": [],
   "source": [
    "st = 'Create a list of the first letters of every word in this string'"
   ]
  },
  {
   "cell_type": "code",
   "execution_count": null,
   "id": "189bd498",
   "metadata": {
    "colab": {
     "base_uri": "https://localhost:8080/"
    },
    "collapsed": true,
    "id": "qRvIeiMK3D3t",
    "jupyter": {
     "outputs_hidden": true
    },
    "outputId": "696e0ba7-eaa4-4a2c-91d7-9406083794f0"
   },
   "outputs": [
    {
     "name": "stdout",
     "output_type": "stream",
     "text": [
      "['P', 'e', 'w', 'i', 't', 's', 't', 'h', 'a', 'e', 'n', 'o', 'l']\n"
     ]
    }
   ],
   "source": [
    "new_string=st.split()\n",
    "first_letter=[x[0] for x in new_string]\n",
    "print(first_letter)"
   ]
  },
  {
   "cell_type": "markdown",
   "id": "1e3c09ed",
   "metadata": {
    "id": "dqVGNfZi3D3t"
   },
   "source": [
    "### Great Job!"
   ]
  },
  {
   "cell_type": "markdown",
   "id": "e7ca391f",
   "metadata": {
    "id": "MbvsDuzLano5"
   },
   "source": [
    "# **Working with NumPy**\n",
    "This optional assignment is for you to practise using the NumPy library and learn how to use vectorization to speed up computations in comparision to iterative approaches.\n",
    "\n",
    "You only need to fill in the code between the ```< START >``` and ```< END >``` tags, the rest has been implemented for you!\n",
    "\n",
    "```python\n",
    "# < START >\n",
    "\"YOUR CODE GOES HERE!\"\n",
    "# < END >\n",
    "\n",
    "```\n",
    "\n",
    "<!---Need to include clarification about arrays?-->\n",
    "\n",
    "**Start by running the below cell, to import the NumPy library.**"
   ]
  },
  {
   "cell_type": "code",
   "execution_count": 1,
   "id": "e1a9eeb3",
   "metadata": {
    "id": "GHqaQIZwaqrb"
   },
   "outputs": [],
   "source": [
    "import numpy as np"
   ]
  },
  {
   "cell_type": "markdown",
   "id": "cd5b1111",
   "metadata": {
    "id": "7_q9CV0oqiQE"
   },
   "source": [
    "### **Initializating Arrays**\n",
    "NumPy offers multiple methods to create and populate arrays\n",
    "- Create a $2\\times3$ array identical to\n",
    "$\\begin{bmatrix}\n",
    "1 & 2 & 4\\\\\n",
    "7 & 13 & 21\\\\\n",
    "\\end{bmatrix}$, and assign it to a variable `arr`.  "
   ]
  },
  {
   "cell_type": "code",
   "execution_count": 3,
   "id": "20c58f51",
   "metadata": {
    "id": "DOSodBqMsPFx"
   },
   "outputs": [
    {
     "name": "stdout",
     "output_type": "stream",
     "text": [
      "[[ 1  2  4]\n",
      " [ 7 13 21]]\n",
      "Shape: (2, 3)\n"
     ]
    }
   ],
   "source": [
    "# < START >\n",
    "arr=np.array([[1,2,4],[7,13,21]])\n",
    "# < END >\n",
    "\n",
    "print(arr)\n",
    "print(\"Shape:\", arr.shape)"
   ]
  },
  {
   "cell_type": "markdown",
   "id": "808d3503",
   "metadata": {
    "id": "ow7eYNN0uqOc"
   },
   "source": [
    "You should be able to see that the `shape` property of an array lets you access its dimensions.  \n",
    "For us, this is a handy way to ensure that the dimensions of an array are what we expect, allowing us to easily debug programs."
   ]
  },
  {
   "cell_type": "markdown",
   "id": "97bc3733",
   "metadata": {
    "id": "3sRFnmJrWY0S"
   },
   "source": [
    "- Initialize a NumPy array `x` of dimensions $2\\times3$ with random values.  \n",
    "Do not use the values of the dimensions directly, instead use the variables provided as arguments.\n",
    "<details>\n",
    "  <summary>Hint</summary>\n",
    "  <a href=\"https://numpy.org/doc/stable/reference/random/generated/numpy.random.randn.html#numpy-random-randn\">np.random.randn()</a>\n",
    "</details>"
   ]
  },
  {
   "cell_type": "code",
   "execution_count": 13,
   "id": "debfa5de",
   "metadata": {
    "id": "VVrePkvxW2K9"
   },
   "outputs": [
    {
     "name": "stdout",
     "output_type": "stream",
     "text": [
      "[[2 7 4]\n",
      " [2 4 6]]\n"
     ]
    }
   ],
   "source": [
    "n_rows = 2\n",
    "n_columns = 3\n",
    "\n",
    "# <START>\n",
    "x=np.random.randint(1,10,size=(n_rows ,n_columns))\n",
    "# <END>\n",
    "\n",
    "print(x)"
   ]
  },
  {
   "cell_type": "markdown",
   "id": "0eb0258b",
   "metadata": {
    "id": "j7XlM8Bwchhm"
   },
   "source": [
    "A few more basic methods to initialize arrays exist.\n",
    "Feel free to read up online to complete the code snippets."
   ]
  },
  {
   "cell_type": "code",
   "execution_count": 19,
   "id": "5d567c7e",
   "metadata": {
    "id": "hG59Eh_edKNy"
   },
   "outputs": [
    {
     "name": "stdout",
     "output_type": "stream",
     "text": [
      "[[[0. 0.]\n",
      "  [0. 0.]\n",
      "  [0. 0.]\n",
      "  [0. 0.]\n",
      "  [0. 0.]]\n",
      "\n",
      " [[0. 0.]\n",
      "  [0. 0.]\n",
      "  [0. 0.]\n",
      "  [0. 0.]\n",
      "  [0. 0.]]\n",
      "\n",
      " [[0. 0.]\n",
      "  [0. 0.]\n",
      "  [0. 0.]\n",
      "  [0. 0.]\n",
      "  [0. 0.]]\n",
      "\n",
      " [[0. 0.]\n",
      "  [0. 0.]\n",
      "  [0. 0.]\n",
      "  [0. 0.]\n",
      "  [0. 0.]]]\n",
      "[[[1. 1.]\n",
      "  [1. 1.]\n",
      "  [1. 1.]\n",
      "  [1. 1.]\n",
      "  [1. 1.]]\n",
      "\n",
      " [[1. 1.]\n",
      "  [1. 1.]\n",
      "  [1. 1.]\n",
      "  [1. 1.]\n",
      "  [1. 1.]]\n",
      "\n",
      " [[1. 1.]\n",
      "  [1. 1.]\n",
      "  [1. 1.]\n",
      "  [1. 1.]\n",
      "  [1. 1.]]\n",
      "\n",
      " [[1. 1.]\n",
      "  [1. 1.]\n",
      "  [1. 1.]\n",
      "  [1. 1.]\n",
      "  [1. 1.]]]\n"
     ]
    }
   ],
   "source": [
    "# < START >\n",
    "# Initialize an array ZERO_ARR of dimensions (4, 5, 2) whose every element is 0\n",
    "ZERO_ARR=np.zeros((4,5,2))\n",
    "# < END >\n",
    "\n",
    "print(ZERO_ARR)\n",
    "\n",
    "# < START >\n",
    "# Initialize an array ONE_ARR of dimensions (4, 5, 2) whose every element is 1\n",
    "ONE_ARR=np.ones((4,5,2))\n",
    "# < END >\n",
    "\n",
    "print(ONE_ARR)"
   ]
  },
  {
   "cell_type": "markdown",
   "id": "60ba4e37",
   "metadata": {
    "id": "19eX-3suIKcF"
   },
   "source": [
    "You can also transpose arrays (same as with matrices), but a more general and commonly used function is the `array.reshape()` function.\n",
    "\n",
    "$$\n",
    "\\begin{bmatrix}\n",
    "a & d\\\\\n",
    "b & e\\\\\n",
    "c & f\\\\\n",
    "\\end{bmatrix}\n",
    "\\xleftarrow{\\text{.T}}\n",
    "\\begin{bmatrix}\n",
    "a & b & c\\\\\n",
    "d & e & f\\\\\n",
    "\\end{bmatrix}\n",
    "\\xrightarrow{\\text{.reshape(3, 2)}}\n",
    "\\begin{bmatrix}\n",
    "a & b\\\\\n",
    "c & d\\\\\n",
    "e & f\\\\\n",
    "\\end{bmatrix}\n",
    "\\xrightarrow{\\text{.reshape(6,1)}}\n",
    "\\begin{bmatrix}\n",
    "a\\\\b\\\\c\\\\d\\\\e\\\\f\\\\\n",
    "\\end{bmatrix}\n",
    "$$\n",
    "`reshape` is commonly used to flatten data stored in multi-dimensional arrays (ex: a 2D array representing a B/W image)\n",
    "\n",
    "- Try it out yourself:"
   ]
  },
  {
   "cell_type": "code",
   "execution_count": 27,
   "id": "0f1473dd",
   "metadata": {
    "id": "72poNlj4H4dv"
   },
   "outputs": [
    {
     "name": "stdout",
     "output_type": "stream",
     "text": [
      "[[1 4]\n",
      " [2 5]\n",
      " [3 6]]\n",
      "[1 2 3 4 5 6]\n"
     ]
    }
   ],
   "source": [
    "y = np.array([[1, 2, 3],\n",
    "              [4, 5, 6]])\n",
    "\n",
    "# < START >\n",
    "# Create a new array y_transpose that is the transpose of matrix y\n",
    "y_transpose=np.transpose(y)\n",
    "# < END >\n",
    "\n",
    "print(y_transpose)\n",
    "\n",
    "# < START >\n",
    "# Create a new array y_flat that contains the same elements as y but has been flattened to a column array\n",
    "y_rowflat=y.flatten()\n",
    "y_flat =np.transpose(y_rowflat)\n",
    "# < END >\n",
    "\n",
    "print(y_flat)"
   ]
  },
  {
   "cell_type": "markdown",
   "id": "5d62b876",
   "metadata": {
    "id": "OmHhW0gtXn4C"
   },
   "source": [
    "- Create a `y` with dimensions $3\\times1$ (column matrix), with elements $4,7$ and $11$.  \n",
    "$$y = \\begin{bmatrix}\n",
    "4\\\\\n",
    "7\\\\\n",
    "11\n",
    "\\end{bmatrix}$$  "
   ]
  },
  {
   "cell_type": "code",
   "execution_count": 30,
   "id": "1546371e",
   "metadata": {
    "id": "_OB_fi7zW57S"
   },
   "outputs": [
    {
     "name": "stdout",
     "output_type": "stream",
     "text": [
      "[[ 4]\n",
      " [ 7]\n",
      " [11]]\n",
      "[[ 51]\n",
      " [117]]\n"
     ]
    }
   ],
   "source": [
    "# <START>\n",
    "# Initialize the column matrix here\n",
    "y=np.array([[4],[7],[11]])\n",
    "# <END>\n",
    "\n",
    "assert y.shape == (3, 1)\n",
    "# The above line is an assert statement, which halts the program if the given condition evaluates to False.\n",
    "# Assert statements are frequently used in neural network programs to ensure our matrices are of the right dimensions.\n",
    "\n",
    "print(y)\n",
    "y1=np.array([[1, 2, 3],\n",
    "              [4, 5, 6]])\n",
    "# <START>\n",
    "# Multiply both the arrays here\n",
    "z=np.dot(y1,y)\n",
    "# <END>\n",
    "\n",
    "assert z.shape == (2, 1)\n",
    "\n",
    "print(z)"
   ]
  },
  {
   "cell_type": "markdown",
   "id": "3e2be604",
   "metadata": {
    "id": "qQBkm2K9eMiu"
   },
   "source": [
    "### **Indexing & Slicing**\n",
    "Just like with normal arrays, you can access an element at the `(i,j)` position using `array[i][j]`.  \n",
    "However, NumPy allows you to do the same using `array[i, j]`, and this form is more efficient and simpler to use.\n",
    "<details>\n",
    "<summary><i>(Optional) Why is it more efficient?</i></summary>\n",
    "The former case is more inefficient as a new temporary array is created after the first index i, that is then indexed by j.\n",
    "</details>\n",
    "\n",
    "```python\n",
    "x = np.array([[1,3,5],[4,7,11],[5,10,20]])\n",
    "\n",
    "x[1][2] #11\n",
    "x[1,2]  #11 <-- Prefer this\n",
    "```"
   ]
  },
  {
   "cell_type": "markdown",
   "id": "447a0557",
   "metadata": {
    "id": "ptZtfq3dUE25"
   },
   "source": [
    "Slicing is another important feature of NumPy arrays. The syntax is the same as that of slicing in Python lists.\n",
    "  We pass the slice as\n",
    "\n",
    "```python\n",
    "  sliced_array = array[start:end:step]\n",
    "  # The second colon (:) is only needed\n",
    "  # if you want to use a step other than 1\n",
    "```\n",
    "By default, `start` is 0, `end` is the array length (in that dimension), and `step` is 1.\n",
    "Remember that `end` is not included in the slice.\n",
    "\n",
    "  Implement array slicing as instructed in the following examples\n",
    "\n"
   ]
  },
  {
   "cell_type": "code",
   "execution_count": 31,
   "id": "dee0ee7e",
   "metadata": {
    "id": "Rb3_CEkYVHRV"
   },
   "outputs": [
    {
     "name": "stdout",
     "output_type": "stream",
     "text": [
      "[1 5 6]\n",
      "[1 3 5 7 9]\n"
     ]
    }
   ],
   "source": [
    "x = np.array([4, 1, 5, 6, 11])\n",
    "\n",
    "# <START>\n",
    "# Create a new array y with the middle 3 elements of x\n",
    "y=x[1:4]\n",
    "# <END>\n",
    "\n",
    "print(y)\n",
    "\n",
    "z = np.array([1, 2, 3, 4, 5, 6, 7, 8, 9, 10])\n",
    "\n",
    "# <START>\n",
    "# Create a new array w with alternating elements of z\n",
    "w=z[::2]\n",
    "# <END>\n",
    "\n",
    "print(w)"
   ]
  },
  {
   "cell_type": "markdown",
   "id": "e1ac0da1",
   "metadata": {
    "id": "MeHuSp4YHjpT"
   },
   "source": [
    "A combination of indexing and slicing can be used to access rows, columns and sub-arrays of 2D arrays.\n",
    "\n",
    "```python\n",
    "arr = np.array([\n",
    "          [1, 2, 3],\n",
    "          [4, 5, 6],\n",
    "          [7, 8, 9]])\n",
    "\n",
    "print(arr[0])       #[1 2 3]\n",
    "print(arr[:,2])     #[3 6 9]\n",
    "print(arr[0:2,0:2]) #[[1 2]\n",
    "                    # [4 5]]\n",
    "```"
   ]
  },
  {
   "cell_type": "code",
   "execution_count": 32,
   "id": "af2fb8fe",
   "metadata": {
    "id": "mvrmhMiUHjMm"
   },
   "outputs": [
    {
     "name": "stdout",
     "output_type": "stream",
     "text": [
      "[[5 2]\n",
      " [7 9]\n",
      " [4 5]]\n"
     ]
    }
   ],
   "source": [
    "arr_2d = np.array([[4, 5, 2],\n",
    "          [3, 7, 9],\n",
    "          [1, 4, 5],\n",
    "          [6, 6, 1]])\n",
    "\n",
    "# <START>\n",
    "# Create a 2D array sliced_arr_2d that is of the form [[5, 2], [7, 9], [4, 5]]\n",
    "sliced_arr_2d=arr_2d[0:3,1:3]\n",
    "# <END>\n",
    "\n",
    "print(sliced_arr_2d)"
   ]
  },
  {
   "cell_type": "markdown",
   "id": "ff6d32d3",
   "metadata": {
    "id": "3wusjBpUZ4YM"
   },
   "source": [
    "###**Broadcasting**\n",
    "\n",
    "This feature allows for flexibility in array operations. It lets us implement highly efficient algorithms with minimal use of memory."
   ]
  },
  {
   "cell_type": "code",
   "execution_count": 36,
   "id": "4b17ca4c",
   "metadata": {
    "id": "JMYM8LIYbKdV"
   },
   "outputs": [
    {
     "name": "stdout",
     "output_type": "stream",
     "text": [
      "[2 3 4 5]\n",
      "[[ 4  8 12]\n",
      " [20 25 30]]\n"
     ]
    }
   ],
   "source": [
    "arr1 = np.array([1, 2, 3, 4])\n",
    "b = 1\n",
    "\n",
    "# <START>\n",
    "# Implement broadcasting to add b to each element of arr1\n",
    "arr1=arr1+b\n",
    "# <END>\n",
    "\n",
    "print(arr1)\n",
    "\n",
    "arr2 = np.array([[1, 2, 3],\n",
    "                 [4, 5, 6]])\n",
    "arr3 = np.array([[4],\n",
    "                 [5]])\n",
    "\n",
    "# <START>\n",
    "# Multiply each element of the first row of arr2 by 4 and each element of the second row by 5, using only arr2 and arr3\n",
    "arr2=arr2*arr3\n",
    "# <END>\n",
    "\n",
    "print(arr2)"
   ]
  },
  {
   "cell_type": "markdown",
   "id": "7c39b94e",
   "metadata": {
    "id": "ZKz_znd7WfhP"
   },
   "source": [
    "### **Vectorization**\n",
    "\n",
    "From what we've covered so far, it might not be clear as to why we need to use vectorization. To understand this, let's compare the execution times of a non-vectorized program and a vectorized one.\n",
    "\n",
    "Your goal is to multiply each element of the 2D arrays by 3. Implement this using both non-vectorized and vectorized approaches."
   ]
  },
  {
   "cell_type": "code",
   "execution_count": 39,
   "id": "ebd46931",
   "metadata": {
    "id": "RheVdAh4WyA1"
   },
   "outputs": [
    {
     "name": "stdout",
     "output_type": "stream",
     "text": [
      "Time taken in non-vectorized approach: 16.484498977661133 ms\n",
      "[[0.2603978  0.89422437 0.86672401 ... 0.33233519 0.64618157 0.93233847]\n",
      " [0.2181448  0.9039164  0.96090775 ... 0.5588531  0.8687282  0.3818679 ]\n",
      " [0.24962011 0.25651038 0.27474539 ... 0.73504521 0.80845146 0.92853495]\n",
      " ...\n",
      " [0.21216553 0.75222657 0.41016875 ... 0.16147316 0.17900407 0.63590656]\n",
      " [0.96067329 0.98862682 0.64723808 ... 0.78118753 0.88806207 0.23547881]\n",
      " [0.96792125 0.94816538 0.30905591 ... 0.62594208 0.12317659 0.7051574 ]]\n",
      "Time taken in vectorized approach: 8.602142333984375 ms\n",
      "[[0.2603978  0.89422437 0.86672401 ... 0.33233519 0.64618157 0.93233847]\n",
      " [0.2181448  0.9039164  0.96090775 ... 0.5588531  0.8687282  0.3818679 ]\n",
      " [0.24962011 0.25651038 0.27474539 ... 0.73504521 0.80845146 0.92853495]\n",
      " ...\n",
      " [0.21216553 0.75222657 0.41016875 ... 0.16147316 0.17900407 0.63590656]\n",
      " [0.96067329 0.98862682 0.64723808 ... 0.78118753 0.88806207 0.23547881]\n",
      " [0.96792125 0.94816538 0.30905591 ... 0.62594208 0.12317659 0.7051574 ]]\n"
     ]
    }
   ],
   "source": [
    "import time\n",
    "\n",
    "arr_nonvectorized = np.random.rand(1000, 1000)\n",
    "arr_vectorized = np.array(arr_nonvectorized) # making a deep copy of the array\n",
    "\n",
    "start_nv = time.time()\n",
    "\n",
    "# Non-vectorized approach\n",
    "# <START>\n",
    "arr_nonvectorized = np.random.rand(1000, 1000)\n",
    "\n",
    "\n",
    "# <END>\n",
    "\n",
    "end_nv = time.time()\n",
    "print(\"Time taken in non-vectorized approach:\", 1000*(end_nv-start_nv), \"ms\")\n",
    "\n",
    "# uncomment and execute the below line to convince yourself that both approaches are doing the same thing\n",
    "print(arr_nonvectorized)\n",
    "\n",
    "start_v = time.time()\n",
    "\n",
    "# Vectorized approach\n",
    "# <START>\n",
    "arr_vectorized = np.array(arr_nonvectorized) # making a deep copy of the array\n",
    "# <END>\n",
    "\n",
    "end_v = time.time()\n",
    "print(\"Time taken in vectorized approach:\", 1000*(end_v-start_v), \"ms\")\n",
    "\n",
    "# uncomment and execute the below line to convince yourself that both approaches are doing the same thing\n",
    "print(arr_vectorized)"
   ]
  },
  {
   "cell_type": "markdown",
   "id": "6c5aa5a1",
   "metadata": {
    "id": "W2FkvxAsbyzc"
   },
   "source": [
    "Try playing around with the dimensions of the array. You'll find that there isn't much difference in the execution times when the dimensions are small. But in neural networks, we often deal with very large datasets and so vectorization is a very important tool."
   ]
  },
  {
   "cell_type": "code",
   "execution_count": null,
   "id": "8ebf4f3c",
   "metadata": {},
   "outputs": [],
   "source": []
  },
  {
   "cell_type": "markdown",
   "id": "a8e6bdd7",
   "metadata": {},
   "source": [
    "# SF Salaries Exercise \n",
    "\n",
    "Welcome to a quick exercise for you to practice your pandas skills! We will be using the [SF Salaries Dataset](https://www.kaggle.com/kaggle/sf-salaries) from Kaggle! Just follow along and complete the tasks outlined in bold below. The tasks will get harder and harder as you go along."
   ]
  },
  {
   "cell_type": "markdown",
   "id": "cf27e82a",
   "metadata": {},
   "source": [
    "**Import pandas as pd.**"
   ]
  },
  {
   "cell_type": "code",
   "execution_count": 1,
   "id": "1d7672cd",
   "metadata": {},
   "outputs": [],
   "source": [
    " import pandas as pd\n"
   ]
  },
  {
   "cell_type": "markdown",
   "id": "9e06e3b7",
   "metadata": {},
   "source": [
    "**Read Salaries.csv as a dataframe called sal.**"
   ]
  },
  {
   "cell_type": "code",
   "execution_count": 10,
   "id": "18fd5883",
   "metadata": {
    "collapsed": false,
    "jupyter": {
     "outputs_hidden": false
    }
   },
   "outputs": [
    {
     "name": "stderr",
     "output_type": "stream",
     "text": [
      "C:\\Users\\Rahul\\AppData\\Local\\Temp\\ipykernel_12068\\3954115044.py:1: DtypeWarning: Columns (3,4,5,6,12) have mixed types. Specify dtype option on import or set low_memory=False.\n",
      "  sal=pd.read_csv(r'C:\\Users\\Rahul\\Downloads\\Salaries.csv.zip')\n"
     ]
    }
   ],
   "source": [
    "sal=pd.read_csv(r'C:\\Users\\Rahul\\Downloads\\Salaries.csv.zip')"
   ]
  },
  {
   "cell_type": "markdown",
   "id": "a08ff0d3",
   "metadata": {},
   "source": [
    "**Check the head of the DataFrame.**"
   ]
  },
  {
   "cell_type": "code",
   "execution_count": 15,
   "id": "6ece750d",
   "metadata": {
    "collapsed": false,
    "jupyter": {
     "outputs_hidden": false
    }
   },
   "outputs": [
    {
     "data": {
      "text/html": [
       "<div>\n",
       "<style scoped>\n",
       "    .dataframe tbody tr th:only-of-type {\n",
       "        vertical-align: middle;\n",
       "    }\n",
       "\n",
       "    .dataframe tbody tr th {\n",
       "        vertical-align: top;\n",
       "    }\n",
       "\n",
       "    .dataframe thead th {\n",
       "        text-align: right;\n",
       "    }\n",
       "</style>\n",
       "<table border=\"1\" class=\"dataframe\">\n",
       "  <thead>\n",
       "    <tr style=\"text-align: right;\">\n",
       "      <th></th>\n",
       "      <th>Id</th>\n",
       "      <th>EmployeeName</th>\n",
       "      <th>JobTitle</th>\n",
       "      <th>BasePay</th>\n",
       "      <th>OvertimePay</th>\n",
       "      <th>OtherPay</th>\n",
       "      <th>Benefits</th>\n",
       "      <th>TotalPay</th>\n",
       "      <th>TotalPayBenefits</th>\n",
       "      <th>Year</th>\n",
       "      <th>Notes</th>\n",
       "      <th>Agency</th>\n",
       "      <th>Status</th>\n",
       "    </tr>\n",
       "  </thead>\n",
       "  <tbody>\n",
       "    <tr>\n",
       "      <th>0</th>\n",
       "      <td>1</td>\n",
       "      <td>NATHANIEL FORD</td>\n",
       "      <td>GENERAL MANAGER-METROPOLITAN TRANSIT AUTHORITY</td>\n",
       "      <td>167411.18</td>\n",
       "      <td>0.0</td>\n",
       "      <td>400184.25</td>\n",
       "      <td>NaN</td>\n",
       "      <td>567595.43</td>\n",
       "      <td>567595.43</td>\n",
       "      <td>2011</td>\n",
       "      <td>NaN</td>\n",
       "      <td>San Francisco</td>\n",
       "      <td>NaN</td>\n",
       "    </tr>\n",
       "    <tr>\n",
       "      <th>1</th>\n",
       "      <td>2</td>\n",
       "      <td>GARY JIMENEZ</td>\n",
       "      <td>CAPTAIN III (POLICE DEPARTMENT)</td>\n",
       "      <td>155966.02</td>\n",
       "      <td>245131.88</td>\n",
       "      <td>137811.38</td>\n",
       "      <td>NaN</td>\n",
       "      <td>538909.28</td>\n",
       "      <td>538909.28</td>\n",
       "      <td>2011</td>\n",
       "      <td>NaN</td>\n",
       "      <td>San Francisco</td>\n",
       "      <td>NaN</td>\n",
       "    </tr>\n",
       "    <tr>\n",
       "      <th>2</th>\n",
       "      <td>3</td>\n",
       "      <td>ALBERT PARDINI</td>\n",
       "      <td>CAPTAIN III (POLICE DEPARTMENT)</td>\n",
       "      <td>212739.13</td>\n",
       "      <td>106088.18</td>\n",
       "      <td>16452.6</td>\n",
       "      <td>NaN</td>\n",
       "      <td>335279.91</td>\n",
       "      <td>335279.91</td>\n",
       "      <td>2011</td>\n",
       "      <td>NaN</td>\n",
       "      <td>San Francisco</td>\n",
       "      <td>NaN</td>\n",
       "    </tr>\n",
       "    <tr>\n",
       "      <th>3</th>\n",
       "      <td>4</td>\n",
       "      <td>CHRISTOPHER CHONG</td>\n",
       "      <td>WIRE ROPE CABLE MAINTENANCE MECHANIC</td>\n",
       "      <td>77916.0</td>\n",
       "      <td>56120.71</td>\n",
       "      <td>198306.9</td>\n",
       "      <td>NaN</td>\n",
       "      <td>332343.61</td>\n",
       "      <td>332343.61</td>\n",
       "      <td>2011</td>\n",
       "      <td>NaN</td>\n",
       "      <td>San Francisco</td>\n",
       "      <td>NaN</td>\n",
       "    </tr>\n",
       "    <tr>\n",
       "      <th>4</th>\n",
       "      <td>5</td>\n",
       "      <td>PATRICK GARDNER</td>\n",
       "      <td>DEPUTY CHIEF OF DEPARTMENT,(FIRE DEPARTMENT)</td>\n",
       "      <td>134401.6</td>\n",
       "      <td>9737.0</td>\n",
       "      <td>182234.59</td>\n",
       "      <td>NaN</td>\n",
       "      <td>326373.19</td>\n",
       "      <td>326373.19</td>\n",
       "      <td>2011</td>\n",
       "      <td>NaN</td>\n",
       "      <td>San Francisco</td>\n",
       "      <td>NaN</td>\n",
       "    </tr>\n",
       "  </tbody>\n",
       "</table>\n",
       "</div>"
      ],
      "text/plain": [
       "   Id       EmployeeName                                        JobTitle  \\\n",
       "0   1     NATHANIEL FORD  GENERAL MANAGER-METROPOLITAN TRANSIT AUTHORITY   \n",
       "1   2       GARY JIMENEZ                 CAPTAIN III (POLICE DEPARTMENT)   \n",
       "2   3     ALBERT PARDINI                 CAPTAIN III (POLICE DEPARTMENT)   \n",
       "3   4  CHRISTOPHER CHONG            WIRE ROPE CABLE MAINTENANCE MECHANIC   \n",
       "4   5    PATRICK GARDNER    DEPUTY CHIEF OF DEPARTMENT,(FIRE DEPARTMENT)   \n",
       "\n",
       "     BasePay OvertimePay   OtherPay Benefits   TotalPay  TotalPayBenefits  \\\n",
       "0  167411.18         0.0  400184.25      NaN  567595.43         567595.43   \n",
       "1  155966.02   245131.88  137811.38      NaN  538909.28         538909.28   \n",
       "2  212739.13   106088.18    16452.6      NaN  335279.91         335279.91   \n",
       "3    77916.0    56120.71   198306.9      NaN  332343.61         332343.61   \n",
       "4   134401.6      9737.0  182234.59      NaN  326373.19         326373.19   \n",
       "\n",
       "   Year  Notes         Agency Status  \n",
       "0  2011    NaN  San Francisco    NaN  \n",
       "1  2011    NaN  San Francisco    NaN  \n",
       "2  2011    NaN  San Francisco    NaN  \n",
       "3  2011    NaN  San Francisco    NaN  \n",
       "4  2011    NaN  San Francisco    NaN  "
      ]
     },
     "execution_count": 15,
     "metadata": {},
     "output_type": "execute_result"
    }
   ],
   "source": [
    "sal.head()"
   ]
  },
  {
   "cell_type": "markdown",
   "id": "e7ae2a0d",
   "metadata": {},
   "source": [
    "**Use the .info() method to find out how many entries there are.**"
   ]
  },
  {
   "cell_type": "code",
   "execution_count": 12,
   "id": "399f9ff1",
   "metadata": {
    "collapsed": false,
    "jupyter": {
     "outputs_hidden": false
    }
   },
   "outputs": [
    {
     "name": "stdout",
     "output_type": "stream",
     "text": [
      "<class 'pandas.core.frame.DataFrame'>\n",
      "RangeIndex: 148654 entries, 0 to 148653\n",
      "Data columns (total 13 columns):\n",
      " #   Column            Non-Null Count   Dtype  \n",
      "---  ------            --------------   -----  \n",
      " 0   Id                148654 non-null  int64  \n",
      " 1   EmployeeName      148654 non-null  object \n",
      " 2   JobTitle          148654 non-null  object \n",
      " 3   BasePay           148049 non-null  object \n",
      " 4   OvertimePay       148654 non-null  object \n",
      " 5   OtherPay          148654 non-null  object \n",
      " 6   Benefits          112495 non-null  object \n",
      " 7   TotalPay          148654 non-null  float64\n",
      " 8   TotalPayBenefits  148654 non-null  float64\n",
      " 9   Year              148654 non-null  int64  \n",
      " 10  Notes             0 non-null       float64\n",
      " 11  Agency            148654 non-null  object \n",
      " 12  Status            38119 non-null   object \n",
      "dtypes: float64(3), int64(2), object(8)\n",
      "memory usage: 14.7+ MB\n"
     ]
    }
   ],
   "source": [
    "sal.info()"
   ]
  },
  {
   "cell_type": "markdown",
   "id": "0b8f9130",
   "metadata": {},
   "source": [
    "**What is the average BasePay ?**"
   ]
  },
  {
   "cell_type": "code",
   "execution_count": 16,
   "id": "61c51c0e",
   "metadata": {
    "collapsed": false,
    "jupyter": {
     "outputs_hidden": false
    }
   },
   "outputs": [
    {
     "data": {
      "text/plain": [
       "66325.4488404877"
      ]
     },
     "execution_count": 16,
     "metadata": {},
     "output_type": "execute_result"
    }
   ],
   "source": [
    "sal['BasePay'] = pd.to_numeric(sal['BasePay'], errors='coerce')\n",
    "sal['BasePay'].mean()"
   ]
  },
  {
   "cell_type": "markdown",
   "id": "0bdcb6fa",
   "metadata": {},
   "source": [
    "**What is the highest amount of OvertimePay in the dataset ?**"
   ]
  },
  {
   "cell_type": "code",
   "execution_count": 18,
   "id": "e58f1e9a",
   "metadata": {
    "collapsed": false,
    "jupyter": {
     "outputs_hidden": false
    }
   },
   "outputs": [
    {
     "data": {
      "text/plain": [
       "245131.88"
      ]
     },
     "execution_count": 18,
     "metadata": {},
     "output_type": "execute_result"
    }
   ],
   "source": [
    "sal['OvertimePay'].max()"
   ]
  },
  {
   "cell_type": "markdown",
   "id": "f1baf125",
   "metadata": {},
   "source": [
    "**What is the job title of  JOSEPH DRISCOLL ? Note: Use all caps, otherwise you may get an answer that doesn't match up (there is also a lowercase Joseph Driscoll).**"
   ]
  },
  {
   "cell_type": "code",
   "execution_count": 23,
   "id": "d9159952",
   "metadata": {
    "collapsed": false,
    "jupyter": {
     "outputs_hidden": false
    }
   },
   "outputs": [
    {
     "data": {
      "text/html": [
       "<div>\n",
       "<style scoped>\n",
       "    .dataframe tbody tr th:only-of-type {\n",
       "        vertical-align: middle;\n",
       "    }\n",
       "\n",
       "    .dataframe tbody tr th {\n",
       "        vertical-align: top;\n",
       "    }\n",
       "\n",
       "    .dataframe thead th {\n",
       "        text-align: right;\n",
       "    }\n",
       "</style>\n",
       "<table border=\"1\" class=\"dataframe\">\n",
       "  <thead>\n",
       "    <tr style=\"text-align: right;\">\n",
       "      <th></th>\n",
       "      <th>Id</th>\n",
       "      <th>EmployeeName</th>\n",
       "      <th>JobTitle</th>\n",
       "      <th>BasePay</th>\n",
       "      <th>OvertimePay</th>\n",
       "      <th>OtherPay</th>\n",
       "      <th>Benefits</th>\n",
       "      <th>TotalPay</th>\n",
       "      <th>TotalPayBenefits</th>\n",
       "      <th>Year</th>\n",
       "      <th>Notes</th>\n",
       "      <th>Agency</th>\n",
       "      <th>Status</th>\n",
       "    </tr>\n",
       "  </thead>\n",
       "  <tbody>\n",
       "    <tr>\n",
       "      <th>24</th>\n",
       "      <td>25</td>\n",
       "      <td>JOSEPH DRISCOLL</td>\n",
       "      <td>CAPTAIN, FIRE SUPPRESSION</td>\n",
       "      <td>140546.86</td>\n",
       "      <td>97868.77</td>\n",
       "      <td>31909.28</td>\n",
       "      <td>NaN</td>\n",
       "      <td>270324.91</td>\n",
       "      <td>270324.91</td>\n",
       "      <td>2011</td>\n",
       "      <td>NaN</td>\n",
       "      <td>San Francisco</td>\n",
       "      <td>NaN</td>\n",
       "    </tr>\n",
       "  </tbody>\n",
       "</table>\n",
       "</div>"
      ],
      "text/plain": [
       "    Id     EmployeeName                   JobTitle    BasePay  OvertimePay  \\\n",
       "24  25  JOSEPH DRISCOLL  CAPTAIN, FIRE SUPPRESSION  140546.86     97868.77   \n",
       "\n",
       "    OtherPay Benefits   TotalPay  TotalPayBenefits  Year  Notes  \\\n",
       "24  31909.28      NaN  270324.91         270324.91  2011    NaN   \n",
       "\n",
       "           Agency Status  \n",
       "24  San Francisco    NaN  "
      ]
     },
     "execution_count": 23,
     "metadata": {},
     "output_type": "execute_result"
    }
   ],
   "source": [
    "res=sal.loc[sal['EmployeeName']=='JOSEPH DRISCOLL']\n",
    "res"
   ]
  },
  {
   "cell_type": "markdown",
   "id": "f589f5e7",
   "metadata": {},
   "source": [
    "**How much does JOSEPH DRISCOLL make (including benefits)?**"
   ]
  },
  {
   "cell_type": "code",
   "execution_count": 24,
   "id": "75c93819",
   "metadata": {
    "collapsed": false,
    "jupyter": {
     "outputs_hidden": false
    }
   },
   "outputs": [
    {
     "data": {
      "text/plain": [
       "24    270324.91\n",
       "Name: TotalPayBenefits, dtype: float64"
      ]
     },
     "execution_count": 24,
     "metadata": {},
     "output_type": "execute_result"
    }
   ],
   "source": [
    "res['TotalPayBenefits']"
   ]
  },
  {
   "cell_type": "markdown",
   "id": "80f11a05",
   "metadata": {},
   "source": [
    "**What is the name of highest paid person (including benefits)?**"
   ]
  },
  {
   "cell_type": "code",
   "execution_count": 28,
   "id": "f8f42468",
   "metadata": {
    "collapsed": false,
    "jupyter": {
     "outputs_hidden": false
    }
   },
   "outputs": [
    {
     "data": {
      "text/plain": [
       "0    NATHANIEL FORD\n",
       "Name: EmployeeName, dtype: object"
      ]
     },
     "execution_count": 28,
     "metadata": {},
     "output_type": "execute_result"
    }
   ],
   "source": [
    "maxsal=sal['TotalPayBenefits'].max()\n",
    "resdf=sal.loc[sal['TotalPayBenefits']==maxsal]\n",
    "resdf['EmployeeName']"
   ]
  },
  {
   "cell_type": "markdown",
   "id": "96c0b5e3",
   "metadata": {},
   "source": [
    "**What is the name of lowest paid person (including benefits)? Do you notice something strange about how much he or she is paid?**"
   ]
  },
  {
   "cell_type": "code",
   "execution_count": 30,
   "id": "bb11f0a9",
   "metadata": {
    "collapsed": false,
    "jupyter": {
     "outputs_hidden": false
    }
   },
   "outputs": [
    {
     "data": {
      "text/html": [
       "<div>\n",
       "<style scoped>\n",
       "    .dataframe tbody tr th:only-of-type {\n",
       "        vertical-align: middle;\n",
       "    }\n",
       "\n",
       "    .dataframe tbody tr th {\n",
       "        vertical-align: top;\n",
       "    }\n",
       "\n",
       "    .dataframe thead th {\n",
       "        text-align: right;\n",
       "    }\n",
       "</style>\n",
       "<table border=\"1\" class=\"dataframe\">\n",
       "  <thead>\n",
       "    <tr style=\"text-align: right;\">\n",
       "      <th></th>\n",
       "      <th>Id</th>\n",
       "      <th>EmployeeName</th>\n",
       "      <th>JobTitle</th>\n",
       "      <th>BasePay</th>\n",
       "      <th>OvertimePay</th>\n",
       "      <th>OtherPay</th>\n",
       "      <th>Benefits</th>\n",
       "      <th>TotalPay</th>\n",
       "      <th>TotalPayBenefits</th>\n",
       "      <th>Year</th>\n",
       "      <th>Notes</th>\n",
       "      <th>Agency</th>\n",
       "      <th>Status</th>\n",
       "    </tr>\n",
       "  </thead>\n",
       "  <tbody>\n",
       "    <tr>\n",
       "      <th>148653</th>\n",
       "      <td>148654</td>\n",
       "      <td>Joe Lopez</td>\n",
       "      <td>Counselor, Log Cabin Ranch</td>\n",
       "      <td>0.0</td>\n",
       "      <td>0.0</td>\n",
       "      <td>-618.13</td>\n",
       "      <td>0.00</td>\n",
       "      <td>-618.13</td>\n",
       "      <td>-618.13</td>\n",
       "      <td>2014</td>\n",
       "      <td>NaN</td>\n",
       "      <td>San Francisco</td>\n",
       "      <td>PT</td>\n",
       "    </tr>\n",
       "  </tbody>\n",
       "</table>\n",
       "</div>"
      ],
      "text/plain": [
       "            Id EmployeeName                    JobTitle  BasePay  OvertimePay  \\\n",
       "148653  148654    Joe Lopez  Counselor, Log Cabin Ranch      0.0          0.0   \n",
       "\n",
       "       OtherPay Benefits  TotalPay  TotalPayBenefits  Year  Notes  \\\n",
       "148653  -618.13     0.00   -618.13           -618.13  2014    NaN   \n",
       "\n",
       "               Agency Status  \n",
       "148653  San Francisco     PT  "
      ]
     },
     "execution_count": 30,
     "metadata": {},
     "output_type": "execute_result"
    }
   ],
   "source": [
    "minsal=sal['TotalPayBenefits'].min()\n",
    "resdf=sal.loc[sal['TotalPayBenefits']==minsal]\n",
    "resdf['EmployeeName']\n",
    "resdf"
   ]
  },
  {
   "cell_type": "markdown",
   "id": "f1e06a72",
   "metadata": {},
   "source": [
    "**What was the average (mean) BasePay of all employees per year? (2011-2014) ?**"
   ]
  },
  {
   "cell_type": "code",
   "execution_count": 40,
   "id": "1fa41573",
   "metadata": {
    "collapsed": false,
    "jupyter": {
     "outputs_hidden": false
    }
   },
   "outputs": [
    {
     "data": {
      "text/plain": [
       "Year\n",
       "2011    63595.956517\n",
       "2012    65436.406857\n",
       "2013    69630.030216\n",
       "2014    66564.421924\n",
       "Name: BasePay, dtype: float64"
      ]
     },
     "execution_count": 40,
     "metadata": {},
     "output_type": "execute_result"
    }
   ],
   "source": [
    "sal.groupby('Year')['BasePay'].mean()\n"
   ]
  },
  {
   "cell_type": "markdown",
   "id": "d33dd8ff",
   "metadata": {},
   "source": [
    "**How many unique job titles are there?**"
   ]
  },
  {
   "cell_type": "code",
   "execution_count": 48,
   "id": "eaf53d32",
   "metadata": {
    "collapsed": false,
    "jupyter": {
     "outputs_hidden": false
    }
   },
   "outputs": [
    {
     "data": {
      "text/plain": [
       "2159"
      ]
     },
     "execution_count": 48,
     "metadata": {},
     "output_type": "execute_result"
    }
   ],
   "source": [
    "unique_jobs=sal['JobTitle'].unique()\n",
    "len(unique_jobs)\n",
    "\n"
   ]
  },
  {
   "cell_type": "code",
   "execution_count": 46,
   "id": "a6a95177",
   "metadata": {},
   "outputs": [
    {
     "ename": "KeyError",
     "evalue": "'YourDateColumnName'",
     "output_type": "error",
     "traceback": [
      "\u001b[1;31m---------------------------------------------------------------------------\u001b[0m",
      "\u001b[1;31mKeyError\u001b[0m                                  Traceback (most recent call last)",
      "File \u001b[1;32m~\\anaconda3\\Lib\\site-packages\\pandas\\core\\indexes\\base.py:3805\u001b[0m, in \u001b[0;36mIndex.get_loc\u001b[1;34m(self, key)\u001b[0m\n\u001b[0;32m   3804\u001b[0m \u001b[38;5;28;01mtry\u001b[39;00m:\n\u001b[1;32m-> 3805\u001b[0m     \u001b[38;5;28;01mreturn\u001b[39;00m \u001b[38;5;28mself\u001b[39m\u001b[38;5;241m.\u001b[39m_engine\u001b[38;5;241m.\u001b[39mget_loc(casted_key)\n\u001b[0;32m   3806\u001b[0m \u001b[38;5;28;01mexcept\u001b[39;00m \u001b[38;5;167;01mKeyError\u001b[39;00m \u001b[38;5;28;01mas\u001b[39;00m err:\n",
      "File \u001b[1;32mindex.pyx:167\u001b[0m, in \u001b[0;36mpandas._libs.index.IndexEngine.get_loc\u001b[1;34m()\u001b[0m\n",
      "File \u001b[1;32mindex.pyx:196\u001b[0m, in \u001b[0;36mpandas._libs.index.IndexEngine.get_loc\u001b[1;34m()\u001b[0m\n",
      "File \u001b[1;32mpandas\\\\_libs\\\\hashtable_class_helper.pxi:7081\u001b[0m, in \u001b[0;36mpandas._libs.hashtable.PyObjectHashTable.get_item\u001b[1;34m()\u001b[0m\n",
      "File \u001b[1;32mpandas\\\\_libs\\\\hashtable_class_helper.pxi:7089\u001b[0m, in \u001b[0;36mpandas._libs.hashtable.PyObjectHashTable.get_item\u001b[1;34m()\u001b[0m\n",
      "\u001b[1;31mKeyError\u001b[0m: 'YourDateColumnName'",
      "\nThe above exception was the direct cause of the following exception:\n",
      "\u001b[1;31mKeyError\u001b[0m                                  Traceback (most recent call last)",
      "Cell \u001b[1;32mIn[46], line 13\u001b[0m\n\u001b[0;32m      9\u001b[0m yearly_avg_pay \u001b[38;5;241m=\u001b[39m sal\u001b[38;5;241m.\u001b[39mgroupby(\u001b[38;5;124m'\u001b[39m\u001b[38;5;124mYear\u001b[39m\u001b[38;5;124m'\u001b[39m)[\u001b[38;5;124m'\u001b[39m\u001b[38;5;124mBasePay\u001b[39m\u001b[38;5;124m'\u001b[39m]\u001b[38;5;241m.\u001b[39mmean()\n\u001b[0;32m     11\u001b[0m \u001b[38;5;66;03m# Option 2: If you have a datetime column (like 'HireDate' or 'Date')\u001b[39;00m\n\u001b[0;32m     12\u001b[0m \u001b[38;5;66;03m# Extract the year first\u001b[39;00m\n\u001b[1;32m---> 13\u001b[0m sal[\u001b[38;5;124m'\u001b[39m\u001b[38;5;124mYear\u001b[39m\u001b[38;5;124m'\u001b[39m] \u001b[38;5;241m=\u001b[39m pd\u001b[38;5;241m.\u001b[39mto_datetime(sal[\u001b[38;5;124m'\u001b[39m\u001b[38;5;124mYourDateColumnName\u001b[39m\u001b[38;5;124m'\u001b[39m])\u001b[38;5;241m.\u001b[39mdt\u001b[38;5;241m.\u001b[39myear\n\u001b[0;32m     15\u001b[0m \u001b[38;5;66;03m# Filter for years 2011-2014\u001b[39;00m\n\u001b[0;32m     16\u001b[0m sal_filtered \u001b[38;5;241m=\u001b[39m sal[(sal[\u001b[38;5;124m'\u001b[39m\u001b[38;5;124mYear\u001b[39m\u001b[38;5;124m'\u001b[39m] \u001b[38;5;241m>\u001b[39m\u001b[38;5;241m=\u001b[39m \u001b[38;5;241m2011\u001b[39m) \u001b[38;5;241m&\u001b[39m (sal[\u001b[38;5;124m'\u001b[39m\u001b[38;5;124mYear\u001b[39m\u001b[38;5;124m'\u001b[39m] \u001b[38;5;241m<\u001b[39m\u001b[38;5;241m=\u001b[39m \u001b[38;5;241m2014\u001b[39m)]\n",
      "File \u001b[1;32m~\\anaconda3\\Lib\\site-packages\\pandas\\core\\frame.py:4102\u001b[0m, in \u001b[0;36mDataFrame.__getitem__\u001b[1;34m(self, key)\u001b[0m\n\u001b[0;32m   4100\u001b[0m \u001b[38;5;28;01mif\u001b[39;00m \u001b[38;5;28mself\u001b[39m\u001b[38;5;241m.\u001b[39mcolumns\u001b[38;5;241m.\u001b[39mnlevels \u001b[38;5;241m>\u001b[39m \u001b[38;5;241m1\u001b[39m:\n\u001b[0;32m   4101\u001b[0m     \u001b[38;5;28;01mreturn\u001b[39;00m \u001b[38;5;28mself\u001b[39m\u001b[38;5;241m.\u001b[39m_getitem_multilevel(key)\n\u001b[1;32m-> 4102\u001b[0m indexer \u001b[38;5;241m=\u001b[39m \u001b[38;5;28mself\u001b[39m\u001b[38;5;241m.\u001b[39mcolumns\u001b[38;5;241m.\u001b[39mget_loc(key)\n\u001b[0;32m   4103\u001b[0m \u001b[38;5;28;01mif\u001b[39;00m is_integer(indexer):\n\u001b[0;32m   4104\u001b[0m     indexer \u001b[38;5;241m=\u001b[39m [indexer]\n",
      "File \u001b[1;32m~\\anaconda3\\Lib\\site-packages\\pandas\\core\\indexes\\base.py:3812\u001b[0m, in \u001b[0;36mIndex.get_loc\u001b[1;34m(self, key)\u001b[0m\n\u001b[0;32m   3807\u001b[0m     \u001b[38;5;28;01mif\u001b[39;00m \u001b[38;5;28misinstance\u001b[39m(casted_key, \u001b[38;5;28mslice\u001b[39m) \u001b[38;5;129;01mor\u001b[39;00m (\n\u001b[0;32m   3808\u001b[0m         \u001b[38;5;28misinstance\u001b[39m(casted_key, abc\u001b[38;5;241m.\u001b[39mIterable)\n\u001b[0;32m   3809\u001b[0m         \u001b[38;5;129;01mand\u001b[39;00m \u001b[38;5;28many\u001b[39m(\u001b[38;5;28misinstance\u001b[39m(x, \u001b[38;5;28mslice\u001b[39m) \u001b[38;5;28;01mfor\u001b[39;00m x \u001b[38;5;129;01min\u001b[39;00m casted_key)\n\u001b[0;32m   3810\u001b[0m     ):\n\u001b[0;32m   3811\u001b[0m         \u001b[38;5;28;01mraise\u001b[39;00m InvalidIndexError(key)\n\u001b[1;32m-> 3812\u001b[0m     \u001b[38;5;28;01mraise\u001b[39;00m \u001b[38;5;167;01mKeyError\u001b[39;00m(key) \u001b[38;5;28;01mfrom\u001b[39;00m \u001b[38;5;21;01merr\u001b[39;00m\n\u001b[0;32m   3813\u001b[0m \u001b[38;5;28;01mexcept\u001b[39;00m \u001b[38;5;167;01mTypeError\u001b[39;00m:\n\u001b[0;32m   3814\u001b[0m     \u001b[38;5;66;03m# If we have a listlike key, _check_indexing_error will raise\u001b[39;00m\n\u001b[0;32m   3815\u001b[0m     \u001b[38;5;66;03m#  InvalidIndexError. Otherwise we fall through and re-raise\u001b[39;00m\n\u001b[0;32m   3816\u001b[0m     \u001b[38;5;66;03m#  the TypeError.\u001b[39;00m\n\u001b[0;32m   3817\u001b[0m     \u001b[38;5;28mself\u001b[39m\u001b[38;5;241m.\u001b[39m_check_indexing_error(key)\n",
      "\u001b[1;31mKeyError\u001b[0m: 'YourDateColumnName'"
     ]
    }
   ],
   "source": [
    "# Assistant\n",
    "import pandas as pd\n",
    "\n",
    "# Assuming 'sal' is your DataFrame and it has a column with dates\n",
    "# First, make sure BasePay is numeric (in case it has string values with $ or commas)\n",
    "sal['BasePay'] = pd.to_numeric(sal['BasePay'], errors='coerce')\n",
    "\n",
    "# Option 1: If you have a 'Year' column already\n",
    "yearly_avg_pay = sal.groupby('Year')['BasePay'].mean()\n",
    "\n",
    "# Option 2: If you have a datetime column (like 'HireDate' or 'Date')\n",
    "# Extract the year first\n",
    "sal['Year'] = pd.to_datetime(sal['YourDateColumnName']).dt.year\n",
    "\n",
    "# Filter for years 2011-2014\n",
    "sal_filtered = sal[(sal['Year'] >= 2011) & (sal['Year'] <= 2014)]\n",
    "\n",
    "# Calculate mean BasePay by year\n",
    "yearly_avg_pay = sal_filtered.groupby('Year')['BasePay'].mean()\n",
    "\n",
    "# Display the results\n",
    "print(yearly_avg_pay)"
   ]
  },
  {
   "cell_type": "markdown",
   "id": "d2c1b593",
   "metadata": {},
   "source": [
    "**What are the top 5 most common jobs?**"
   ]
  },
  {
   "cell_type": "code",
   "execution_count": 51,
   "id": "1d1d7de2",
   "metadata": {
    "collapsed": false,
    "jupyter": {
     "outputs_hidden": false
    }
   },
   "outputs": [
    {
     "data": {
      "text/plain": [
       "JobTitle\n",
       "Transit Operator                7036\n",
       "Special Nurse                   4389\n",
       "Registered Nurse                3736\n",
       "Public Svc Aide-Public Works    2518\n",
       "Police Officer 3                2421\n",
       "Name: count, dtype: int64"
      ]
     },
     "execution_count": 51,
     "metadata": {},
     "output_type": "execute_result"
    }
   ],
   "source": [
    "jobcounts=sal['JobTitle'].value_counts()\n",
    "jobcounts.head(5)"
   ]
  },
  {
   "cell_type": "markdown",
   "id": "f98c8c11",
   "metadata": {},
   "source": [
    "**How many Job Titles were represented by only one person in 2013? (e.g. Job Titles with only one occurence in 2013?)**"
   ]
  },
  {
   "cell_type": "code",
   "execution_count": 65,
   "id": "efbc6f84",
   "metadata": {
    "collapsed": false,
    "jupyter": {
     "outputs_hidden": false
    }
   },
   "outputs": [
    {
     "data": {
      "text/plain": [
       "202"
      ]
     },
     "execution_count": 65,
     "metadata": {},
     "output_type": "execute_result"
    }
   ],
   "source": [
    "df_2013=sal[sal['Year']==2013]\n",
    "job_counts_2013 = df_2013['JobTitle'].value_counts().reset_index()\n",
    "job_counts_2013.columns = ['JobTitle', 'count']\n",
    "single_occurrence_jobs = job_counts_2013[job_counts_2013['count'] == 1]\n",
    "num_single_occurrence_jobs = len(single_occurrence_jobs)\n",
    "\n",
    "res=single_occurrence_jobs['JobTitle'].tolist()\n",
    "len(res)"
   ]
  },
  {
   "cell_type": "markdown",
   "id": "bb557af0",
   "metadata": {},
   "source": [
    "**How many people have the word Chief in their job title? (This is pretty tricky)**"
   ]
  },
  {
   "cell_type": "code",
   "execution_count": 76,
   "id": "9ef43a42",
   "metadata": {},
   "outputs": [
    {
     "name": "stdout",
     "output_type": "stream",
     "text": [
      "\n",
      "Distribution of job titles containing 'Chief':\n",
      "JobTitle\n",
      "Assistant Chief Attorney 1            71\n",
      "Battalion Chief, Fire Suppress        65\n",
      "BATTALION CHIEF, (FIRE DEPARTMENT)    45\n",
      "Chief Clerk                           45\n",
      "Chief Stationary Engineer             43\n",
      "                                      ..\n",
      "CHIEF PLUMBING INSPECTOR               1\n",
      "CHIEF ELECTRICAL INSPECTOR             1\n",
      "CHIEF HOUSING INSPECTOR                1\n",
      "CHIEF MICROBIOLOGIST                   1\n",
      "Chief Forensic Toxicologist            1\n",
      "Name: count, Length: 67, dtype: int64\n"
     ]
    },
    {
     "data": {
      "text/plain": [
       "627"
      ]
     },
     "execution_count": 76,
     "metadata": {},
     "output_type": "execute_result"
    }
   ],
   "source": [
    "chief_titles = sal[sal['JobTitle'].str.contains(r'(?i)\\bChief\\b')]['JobTitle'].value_counts()\n",
    "print(\"\\nDistribution of job titles containing 'Chief':\")\n",
    "print(chief_titles)\n",
    "chief_titles.sum()"
   ]
  },
  {
   "cell_type": "code",
   "execution_count": 21,
   "id": "4fb04007",
   "metadata": {
    "collapsed": false,
    "jupyter": {
     "outputs_hidden": false
    }
   },
   "outputs": [
    {
     "data": {
      "text/plain": [
       "477"
      ]
     },
     "execution_count": 21,
     "metadata": {},
     "output_type": "execute_result"
    }
   ],
   "source": []
  },
  {
   "cell_type": "markdown",
   "id": "2230131c",
   "metadata": {},
   "source": [
    "**Is there a correlation between length of the Job Title string and Salary?**"
   ]
  },
  {
   "cell_type": "code",
   "execution_count": 77,
   "id": "25860de4",
   "metadata": {
    "collapsed": false,
    "jupyter": {
     "outputs_hidden": false
    }
   },
   "outputs": [],
   "source": [
    "sal['JobTitle_Length'] = sal['JobTitle'].str.len()"
   ]
  },
  {
   "cell_type": "code",
   "execution_count": 80,
   "id": "452948d6",
   "metadata": {
    "collapsed": false,
    "jupyter": {
     "outputs_hidden": false
    }
   },
   "outputs": [
    {
     "data": {
      "text/plain": [
       "-0.03687844593260676"
      ]
     },
     "execution_count": 80,
     "metadata": {},
     "output_type": "execute_result"
    }
   ],
   "source": [
    " sal['JobTitle_Length'].corr(sal['TotalPayBenefits'])\n"
   ]
  },
  {
   "cell_type": "markdown",
   "id": "2d1ab665",
   "metadata": {},
   "source": [
    "# Great Job!"
   ]
  },
  {
   "cell_type": "code",
   "execution_count": 1,
   "id": "5ccef131",
   "metadata": {},
   "outputs": [],
   "source": [
    "import numpy as np\n",
    "x = np.arange(0,100)\n",
    "y = x*2\n",
    "z = x**2"
   ]
  },
  {
   "cell_type": "markdown",
   "id": "1ad4bf92",
   "metadata": {},
   "source": [
    "**Import matplotlib.pyplot as plt and set %matplotlib inline if you are using the jupyter notebook. What command do you use if you aren't using the jupyter notebook?**"
   ]
  },
  {
   "cell_type": "code",
   "execution_count": 2,
   "id": "8acc02b1",
   "metadata": {},
   "outputs": [],
   "source": [
    "import matplotlib.pyplot as plt\n",
    "%matplotlib inline"
   ]
  },
  {
   "cell_type": "markdown",
   "id": "20c4d54a",
   "metadata": {},
   "source": [
    "## Exercise 1\n",
    "\n",
    "**Follow along with these steps:**<br>\n",
    "**Create a figure object called fig using plt.figure()**<br>\n",
    "**Use add_axes to add an axis to the figure canvas at [0,0,1,1]. Call this new axis ax.**<br>\n",
    "**Plot (x,y) on that axes and set the labels and titles to match the plot below:**"
   ]
  },
  {
   "cell_type": "code",
   "execution_count": 7,
   "id": "b223b9c4",
   "metadata": {
    "collapsed": false,
    "jupyter": {
     "outputs_hidden": false
    }
   },
   "outputs": [
    {
     "data": {
      "image/png": "[encoded data removed]",
      "text/plain": [
       "<Figure size 640x480 with 1 Axes>"
      ]
     },
     "metadata": {},
     "output_type": "display_data"
    },
    {
     "data": {
      "image/png": "[encoded data removed]",
      "text/plain": [
       "<Figure size 640x480 with 1 Axes>"
      ]
     },
     "metadata": {},
     "output_type": "display_data"
    },
    {
     "data": {
      "image/png": "[encoded data removed]",
      "text/plain": [
       "<Figure size 640x480 with 1 Axes>"
      ]
     },
     "metadata": {},
     "output_type": "display_data"
    }
   ],
   "source": [
    "fig=plt.figure()\n",
    "ax=fig.add_axes([0,0,1,1])\n",
    "ax.plot(x,y)\n",
    "ax.set_xlabel('X Label')\n",
    "ax.set_ylabel('Y Label')\n",
    "ax.set_title('Title')\n",
    "plt.show()\n"
   ]
  },
  {
   "cell_type": "markdown",
   "id": "2c829a37",
   "metadata": {},
   "source": [
    "## Exercise 2\n",
    "**Create a figure object and put two axes on it, ax1 and ax2. Located at [0,0,1,1] and [0.2,0.5,.2,.2] respectively.**"
   ]
  },
  {
   "cell_type": "code",
   "execution_count": 8,
   "id": "474af353",
   "metadata": {
    "collapsed": false,
    "jupyter": {
     "outputs_hidden": false
    }
   },
   "outputs": [],
   "source": [
    "fig=plt.figure()\n",
    "ax1=fig.add_axes([0,0,1,1])\n",
    "ax2=fig.add_axes([0.2,0.5,.2,.2])"
   ]
  },
  {
   "cell_type": "markdown",
   "id": "8d377543",
   "metadata": {},
   "source": [
    "**Now plot (x,y) on both axes. And call your figure object to show it.**"
   ]
  },
  {
   "cell_type": "code",
   "execution_count": 10,
   "id": "39ae8fec",
   "metadata": {
    "collapsed": false,
    "jupyter": {
     "outputs_hidden": false
    }
   },
   "outputs": [
    {
     "data": {
      "image/png": "[encoded data removed]",
      "text/plain": [
       "<Figure size 640x480 with 2 Axes>"
      ]
     },
     "metadata": {},
     "output_type": "display_data"
    }
   ],
   "source": [
    "ax1.plot(x,y)\n",
    "ax2.plot(x,y)\n",
    "plt.show()"
   ]
  },
  {
   "cell_type": "markdown",
   "id": "e66f8a67",
   "metadata": {},
   "source": [
    "## Exercise 3\n",
    "\n",
    "**Create the plot below by adding two axes to a figure object at [0,0,1,1] and [0.2,0.5,.4,.4]**"
   ]
  },
  {
   "cell_type": "code",
   "execution_count": 12,
   "id": "7f988ccc",
   "metadata": {
    "collapsed": false,
    "jupyter": {
     "outputs_hidden": false
    }
   },
   "outputs": [
    {
     "data": {
      "image/png": "[encoded data removed]",
      "text/plain": [
       "<Figure size 640x480 with 2 Axes>"
      ]
     },
     "metadata": {},
     "output_type": "display_data"
    }
   ],
   "source": [
    "fig=plt.figure()\n",
    "ax1=fig.add_axes([0,0,1,1])\n",
    "ax2=fig.add_axes([0.2,0.5,.4,.4])\n",
    "ax1.plot(x,y)\n"
   ]
  },
  {
   "cell_type": "markdown",
   "id": "ff7cc5a7",
   "metadata": {},
   "source": [
    "**Now use x,y, and z arrays to recreate the plot below. Notice the xlimits and y limits on the inserted plot:**"
   ]
  },
  {
   "cell_type": "code",
   "execution_count": 15,
   "id": "3c3391ad",
   "metadata": {
    "collapsed": false,
    "jupyter": {
     "outputs_hidden": false
    }
   },
   "outputs": [],
   "source": [
    "ax2.set_xlim([0, 100]) \n",
    "ax2.set_ylim([40, 45])  \n",
    "ax2.plot(x,y)\n",
    "plt.show()\n"
   ]
  },
  {
   "cell_type": "markdown",
   "id": "260a5c72",
   "metadata": {},
   "source": [
    "## Exercise 4\n",
    "\n",
    "**Use plt.subplots(nrows=1, ncols=2) to create the plot below.**"
   ]
  },
  {
   "cell_type": "code",
   "execution_count": 16,
   "id": "fff3cc24",
   "metadata": {
    "collapsed": false,
    "jupyter": {
     "outputs_hidden": false
    }
   },
   "outputs": [
    {
     "data": {
      "image/png": "[encoded data removed]",
      "text/plain": [
       "<Figure size 1200x500 with 2 Axes>"
      ]
     },
     "metadata": {},
     "output_type": "display_data"
    }
   ],
   "source": [
    "import matplotlib.pyplot as plt\n",
    "import numpy as np\n",
    "fig, axes = plt.subplots(nrows=1, ncols=2, figsize=(12, 5))\n",
    "ax1 = axes[0]\n",
    "ax2 = axes[1]\n",
    "x = np.linspace(0, 10, 100)\n",
    "y = np.sin(x)\n",
    "z = np.cos(x)\n",
    "ax1.plot(x, y, 'b-')\n",
    "ax1.set_xlabel('X Label')\n",
    "ax1.set_ylabel('Y Label')\n",
    "ax1.set_title('First Subplot')\n",
    "ax1.grid(True)\n",
    "ax2.plot(x, z, 'r-')\n",
    "ax2.set_xlabel('X Label')\n",
    "ax2.set_ylabel('Z Label')\n",
    "ax2.set_title('Second Subplot')\n",
    "ax2.grid(True)\n",
    "plt.tight_layout()\n",
    "plt.show()"
   ]
  },
  {
   "cell_type": "markdown",
   "id": "461cb46e",
   "metadata": {},
   "source": [
    "**Now plot (x,y) and (x,z) on the axes. Play around with the linewidth and style**"
   ]
  },
  {
   "cell_type": "code",
   "execution_count": 17,
   "id": "0ae37a77",
   "metadata": {
    "collapsed": false,
    "jupyter": {
     "outputs_hidden": false
    }
   },
   "outputs": [
    {
     "data": {
      "image/png": "[encoded data removed]",
      "text/plain": [
       "<Figure size 1400x600 with 2 Axes>"
      ]
     },
     "metadata": {},
     "output_type": "display_data"
    }
   ],
   "source": [
    "import matplotlib.pyplot as plt\n",
    "import numpy as np\n",
    "\n",
    "fig, axes = plt.subplots(nrows=1, ncols=2, figsize=(14, 6))\n",
    "\n",
    "\n",
    "ax1 = axes[0]\n",
    "ax2 = axes[1]\n",
    "x = np.linspace(0, 10, 100)\n",
    "y = np.sin(x)\n",
    "z = np.cos(x)\n",
    "\n",
    "ax1.plot(x, y, 'b-', linewidth=2.5, label='Sine Wave')  \n",
    "ax1.plot(x, y/2, 'r--', linewidth=1.8, label='Half Sine')  \n",
    "ax1.set_xlabel('X Label', fontsize=12)\n",
    "ax1.set_ylabel('Y Label', fontsize=12)\n",
    "ax1.set_title('First Subplot', fontsize=14)\n",
    "ax1.grid(True, linestyle=':')  \n",
    "ax1.legend()\n",
    "ax2.plot(x, z, 'g-.', linewidth=3, label='Cosine Wave')  \n",
    "ax2.plot(x, z/2, 'm:', linewidth=2, label='Half Cosine') \n",
    "ax2.set_xlabel('X Label', fontsize=12)\n",
    "ax2.set_ylabel('Z Label', fontsize=12)\n",
    "ax2.set_title('Second Subplot', fontsize=14)\n",
    "ax2.grid(True, linestyle='--')  \n",
    "ax2.legend()\n",
    "plt.style.use('seaborn-v0_8-whitegrid')  \n",
    "plt.tight_layout()\n",
    "\n",
    "plt.show()"
   ]
  },
  {
   "cell_type": "markdown",
   "id": "1cea12a3",
   "metadata": {},
   "source": [
    "**See if you can resize the plot by adding the figsize() argument in plt.subplots() are copying and pasting your previous code.**"
   ]
  },
  {
   "cell_type": "code",
   "execution_count": 20,
   "id": "a8fa893d",
   "metadata": {
    "collapsed": false,
    "jupyter": {
     "outputs_hidden": false
    }
   },
   "outputs": [
    {
     "data": {
      "image/png": "[encoded data removed]",
      "text/plain": [
       "<Figure size 1000x1000 with 2 Axes>"
      ]
     },
     "metadata": {},
     "output_type": "display_data"
    }
   ],
   "source": [
    "import matplotlib.pyplot as plt\n",
    "import numpy as np\n",
    "\n",
    "fig, axes = plt.subplots(nrows=1, ncols=2, figsize=(10, 10))\n",
    "\n",
    "\n",
    "ax1 = axes[0]\n",
    "ax2 = axes[1]\n",
    "x = np.linspace(0, 10, 100)\n",
    "y = np.sin(x)\n",
    "z = np.cos(x)\n",
    "\n",
    "ax1.plot(x, y, 'b-', linewidth=2.5, label='Sine Wave')  \n",
    "ax1.plot(x, y/2, 'r--', linewidth=1.8, label='Half Sine')  \n",
    "ax1.set_xlabel('X Label', fontsize=12)\n",
    "ax1.set_ylabel('Y Label', fontsize=12)\n",
    "ax1.set_title('First Subplot', fontsize=14)\n",
    "ax1.grid(True, linestyle=':')  \n",
    "ax1.legend()\n",
    "ax2.plot(x, z, 'g-.', linewidth=3, label='Cosine Wave')  \n",
    "ax2.plot(x, z/2, 'm:', linewidth=2, label='Half Cosine') \n",
    "ax2.set_xlabel('X Label', fontsize=12)\n",
    "ax2.set_ylabel('Z Label', fontsize=12)\n",
    "ax2.set_title('Second Subplot', fontsize=14)\n",
    "ax2.grid(True, linestyle='--')  \n",
    "ax2.legend()\n",
    "plt.style.use('seaborn-v0_8-whitegrid')  \n",
    "plt.tight_layout()\n",
    "\n",
    "plt.show()"
   ]
  },
  {
   "cell_type": "markdown",
   "id": "92de87b4",
   "metadata": {},
   "source": [
    "# Great Job!"
   ]
  }
 ],
 "metadata": {
  "kernelspec": {
   "display_name": "Python 3 (ipykernel)",
   "language": "python",
   "name": "python3"
  },
  "language_info": {
   "codemirror_mode": {
    "name": "ipython",
    "version": 3
   },
   "file_extension": ".py",
   "mimetype": "text/x-python",
   "name": "python",
   "nbconvert_exporter": "python",
   "pygments_lexer": "ipython3",
   "version": "3.12.7"
  }
 },
 "nbformat": 4,
 "nbformat_minor": 5
}
